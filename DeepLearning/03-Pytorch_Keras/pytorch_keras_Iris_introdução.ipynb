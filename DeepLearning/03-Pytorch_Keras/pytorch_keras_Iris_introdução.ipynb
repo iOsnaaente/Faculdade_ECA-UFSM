{
  "nbformat": 4,
  "nbformat_minor": 0,
  "metadata": {
    "colab": {
      "name": "PyTorch-Keras_Introdução.ipynb",
      "provenance": [],
      "collapsed_sections": []
    },
    "kernelspec": {
      "name": "python3",
      "display_name": "Python 3"
    }
  },
  "cells": [
    {
      "cell_type": "markdown",
      "metadata": {
        "id": "5y6mJrE3t3Cn"
      },
      "source": [
        "Importando os dados de Iris para os treinos"
      ]
    },
    {
      "cell_type": "code",
      "metadata": {
        "colab": {
          "base_uri": "https://localhost:8080/"
        },
        "id": "UoMIPlhzpKCk",
        "outputId": "ade17d83-85e0-4dfa-f244-f62c98803847"
      },
      "source": [
        "!gdown https://drive.google.com/uc?id=1d3NbjXro_BfnYpFm66ETBfe7ubAZPAoL"
      ],
      "execution_count": null,
      "outputs": [
        {
          "output_type": "stream",
          "text": [
            "Downloading...\n",
            "From: https://drive.google.com/uc?id=1d3NbjXro_BfnYpFm66ETBfe7ubAZPAoL\n",
            "To: /content/Iris.csv\n",
            "\r  0% 0.00/5.11k [00:00<?, ?B/s]\r100% 5.11k/5.11k [00:00<00:00, 3.74MB/s]\n"
          ],
          "name": "stdout"
        }
      ]
    },
    {
      "cell_type": "code",
      "metadata": {
        "id": "v3iBTXBJpR8c"
      },
      "source": [
        "from numpy.random import shuffle \r\n",
        "\r\n",
        "f = open('Iris.csv', 'r')\r\n",
        "lines = f.readlines()\r\n",
        "\r\n",
        "X = list()\r\n",
        "Y = list()\r\n",
        "\r\n",
        "cats = ['Iris-setosa', 'Iris-versicolor', 'Iris-virginica']\r\n",
        "\r\n",
        "for line in lines[1:]:\r\n",
        "  _, sl, sw, pl, pw, sp = line[:-1].split(',')\r\n",
        "  \r\n",
        "  sl = float(sl)\r\n",
        "  sw = float(sw)\r\n",
        "  pl = float(pl)\r\n",
        "  pw = float(pw)\r\n",
        "  \r\n",
        "  sp = [ 1.0 if sp == cat else 0.0 for cat in cats ]\r\n",
        "\r\n",
        "  X.append([sl,sw,pl,pw])\r\n",
        "  Y.append(sp)\r\n",
        "\r\n",
        "\r\n",
        "total = len(X)\r\n",
        "indexes = list(range(total))\r\n",
        "\r\n",
        "shuffle(indexes)\r\n",
        "\r\n",
        "Xs = [X[i] for i in indexes]\r\n",
        "Ys = [Y[i] for i in indexes]\r\n",
        "\r\n",
        "# total = len(X)\r\n",
        "sep = int(total * 0.1)\r\n",
        "\r\n",
        "total_train = total - sep\r\n",
        "total_test = sep \r\n",
        "\r\n",
        "Xt = Xs[:total_train,:]\r\n",
        "Yt = Ys[:total_train,:]\r\n",
        "\r\n",
        "Xv = Xs[total_train:,:]\r\n",
        "Yv = Ys[total_train:,:]"
      ],
      "execution_count": null,
      "outputs": []
    },
    {
      "cell_type": "markdown",
      "metadata": {
        "id": "XjKYDjtvG8Fv"
      },
      "source": [
        "Começando a usar PyTorch"
      ]
    },
    {
      "cell_type": "code",
      "metadata": {
        "id": "xMG7DOGGo5lh"
      },
      "source": [
        "from matplotlib import pyplot as plt \r\n",
        "import torch"
      ],
      "execution_count": null,
      "outputs": []
    },
    {
      "cell_type": "markdown",
      "metadata": {
        "id": "Wa46flq4HHtq"
      },
      "source": [
        "Aplicando a descida do gradiente em pyTorch em dados aleatórios"
      ]
    },
    {
      "cell_type": "code",
      "metadata": {
        "colab": {
          "base_uri": "https://localhost:8080/",
          "height": 265
        },
        "id": "bwGcXxfrxAfO",
        "outputId": "61a5e230-8eb7-4c73-e087-9693ada06a0a"
      },
      "source": [
        "x = torch.linspace(0,10, steps=50)\r\n",
        "y = (x-5)**2\r\n",
        "\r\n",
        "plt.plot(x,y)\r\n",
        "plt.show()"
      ],
      "execution_count": null,
      "outputs": [
        {
          "output_type": "display_data",
          "data": {
            "image/png": "[encoded data removed]",
            "text/plain": [
              "<Figure size 432x288 with 1 Axes>"
            ]
          },
          "metadata": {
            "tags": [],
            "needs_background": "light"
          }
        }
      ]
    },
    {
      "cell_type": "code",
      "metadata": {
        "colab": {
          "base_uri": "https://localhost:8080/",
          "height": 265
        },
        "id": "8rk24yaYxlDr",
        "outputId": "fae12875-3ec0-4c44-cafc-b080ad3f0e37"
      },
      "source": [
        "f = lambda x: (x-5)**2 \r\n",
        "\r\n",
        "x_ref = torch.linspace(0,10, steps=50)\r\n",
        "y_ref = f(x_ref)\r\n",
        "\r\n",
        "plt.plot(x_ref, y_ref)\r\n",
        "\r\n",
        "x = torch.tensor(1.0, requires_grad=True) #x.requires_grad_(True)\r\n",
        "\r\n",
        "for _ in range(50):\r\n",
        "  y = f(x)\r\n",
        "\r\n",
        "  plt.plot(x.data, y.data, 'ro')\r\n",
        "\r\n",
        "  y.backward()\r\n",
        "  x.data -= 0.1 * x.grad\r\n",
        "  x.grad.zero_()\r\n",
        "\r\n",
        "\r\n",
        "plt.show()"
      ],
      "execution_count": null,
      "outputs": [
        {
          "output_type": "display_data",
          "data": {
            "image/png": "[encoded data removed]",
            "text/plain": [
              "<Figure size 432x288 with 1 Axes>"
            ]
          },
          "metadata": {
            "tags": [],
            "needs_background": "light"
          }
        }
      ]
    },
    {
      "cell_type": "markdown",
      "metadata": {
        "id": "fkZK3JT60R5n"
      },
      "source": [
        "Dados do Iris com PyTorch"
      ]
    },
    {
      "cell_type": "code",
      "metadata": {
        "id": "gp9rOZPB05BJ"
      },
      "source": [
        "import torch\r\n",
        "import torch.nn as nn \r\n",
        "import torch.nn.functional as F"
      ],
      "execution_count": null,
      "outputs": []
    },
    {
      "cell_type": "code",
      "metadata": {
        "id": "4bSLQaeU0Rn-"
      },
      "source": [
        "class Perceptron(nn.Module):\r\n",
        "  def __init__(self):\r\n",
        "    super(Perceptron, self).__init__()\r\n",
        "    self.wb1 = nn.Linear(4, 8)\r\n",
        "    self.wb2 = nn.Linear(8, 3)\r\n",
        "  \r\n",
        "  def forward(self, x):\r\n",
        "    s1 = self.wb1(x) \r\n",
        "    z1 = torch.sigmoid(s1)\r\n",
        "\r\n",
        "    s2 = self.wb2(z1)\r\n",
        "    z2 = s2              # Calculo do softmax depois\r\n",
        "    return z2"
      ],
      "execution_count": null,
      "outputs": []
    },
    {
      "cell_type": "code",
      "metadata": {
        "colab": {
          "base_uri": "https://localhost:8080/"
        },
        "id": "kt85sClN2hDy",
        "outputId": "cb74c572-52b2-4f55-d7d1-4f4db35aa11f"
      },
      "source": [
        "p = Perceptron()\r\n",
        "print(p)"
      ],
      "execution_count": null,
      "outputs": [
        {
          "output_type": "stream",
          "text": [
            "Perceptron(\n",
            "  (wb1): Linear(in_features=4, out_features=8, bias=True)\n",
            "  (wb2): Linear(in_features=8, out_features=3, bias=True)\n",
            ")\n"
          ],
          "name": "stdout"
        }
      ]
    },
    {
      "cell_type": "code",
      "metadata": {
        "colab": {
          "base_uri": "https://localhost:8080/"
        },
        "id": "6EhbyS9n2vgJ",
        "outputId": "62c28c3f-4ca0-4a87-aa3c-69e96f2757cf"
      },
      "source": [
        "list(p.parameters())"
      ],
      "execution_count": null,
      "outputs": [
        {
          "output_type": "execute_result",
          "data": {
            "text/plain": [
              "[Parameter containing:\n",
              " tensor([[-0.4202,  0.4415, -0.2926, -0.3635],\n",
              "         [ 0.2476, -0.0424, -0.3594, -0.4944],\n",
              "         [-0.1747,  0.2987, -0.4852, -0.2437],\n",
              "         [ 0.0701, -0.2205,  0.0031,  0.1966],\n",
              "         [ 0.0059,  0.0556, -0.3233, -0.3687],\n",
              "         [-0.1975, -0.2321,  0.0598, -0.3200],\n",
              "         [ 0.4217, -0.4723,  0.4661,  0.2858],\n",
              "         [ 0.0918,  0.1697, -0.2174, -0.2779]], requires_grad=True),\n",
              " Parameter containing:\n",
              " tensor([-0.1419, -0.4049,  0.1045, -0.3270,  0.1408, -0.3168, -0.0489, -0.2187],\n",
              "        requires_grad=True),\n",
              " Parameter containing:\n",
              " tensor([[ 0.1247,  0.1733,  0.2434,  0.3409,  0.2668,  0.0982,  0.2830,  0.2362],\n",
              "         [-0.2715, -0.2644, -0.1125, -0.1128, -0.3031,  0.2160,  0.2594,  0.3497],\n",
              "         [ 0.3214, -0.0883,  0.1103, -0.0320,  0.2552,  0.2640,  0.2491, -0.1466]],\n",
              "        requires_grad=True),\n",
              " Parameter containing:\n",
              " tensor([-0.3437,  0.0800, -0.1413], requires_grad=True)]"
            ]
          },
          "metadata": {
            "tags": []
          },
          "execution_count": 31
        }
      ]
    },
    {
      "cell_type": "code",
      "metadata": {
        "colab": {
          "base_uri": "https://localhost:8080/"
        },
        "id": "NYDj5dfD22DE",
        "outputId": "f2e66b4f-2eb8-4f99-c58d-618eaf273002"
      },
      "source": [
        "x = torch.tensor([[1.0, 2.0, 3.0, 4.0]])\r\n",
        "y = p(x)\r\n",
        "\r\n",
        "y_hat = torch.tensor([[0.0, 1.0, 0.0]])\r\n",
        "\r\n",
        "loss = nn.CrossEntropyLoss()\r\n",
        "\r\n",
        "e = loss(y, y_hat.argmax(dim=1)) # .argmax(dim=1) para pegar o index do onehot \r\n",
        "\r\n",
        "print(e)\r\n"
      ],
      "execution_count": null,
      "outputs": [
        {
          "output_type": "stream",
          "text": [
            "tensor(1.0648, grad_fn=<NllLossBackward>)\n"
          ],
          "name": "stdout"
        }
      ]
    },
    {
      "cell_type": "code",
      "metadata": {
        "id": "vvonqI6F5KGF"
      },
      "source": [
        "p.zero_grad()\r\n",
        "e.backward()\r\n",
        "\r\n",
        "for param in p.parameters():\r\n",
        "  param.data -= 0.1 * param.grad"
      ],
      "execution_count": null,
      "outputs": []
    },
    {
      "cell_type": "code",
      "metadata": {
        "id": "FyNuIMlT5ydB"
      },
      "source": [
        "for i in range(10001):\r\n",
        "  for x, y_hat in zip(Xt, Xt):\r\n",
        "    x = x.view(1,4)\r\n",
        "    y_hat = y.view(1,3)\r\n",
        "    \r\n",
        "    p.zero_grad()\r\n",
        "    \r\n",
        "    y = p(x)\r\n",
        "    \r\n",
        "    e = loss(y, y_hat.argmax(dim=1))\r\n",
        "    e.backward()\r\n",
        "    \r\n",
        "    for param in p.parameters():\r\n",
        "      param.data -= 0.1*param.grad.data\r\n",
        "    \r\n",
        "    if not (i%1000) or i == 0:\r\n",
        "      print(e)"
      ],
      "execution_count": null,
      "outputs": []
    },
    {
      "cell_type": "code",
      "metadata": {
        "id": "bO_OValZ6y65"
      },
      "source": [
        "import torch.optim as optim \r\n",
        "\r\n",
        "optimizer = optim.SGD(p.parameters(), lr = 0.1)\r\n",
        "\r\n",
        "for i in range(10001):\r\n",
        "  optimizer.zero_grad()\r\n",
        "  Y = p(Xt)\r\n",
        "  e = loss(Y, Yt.argmax(dim=1))\r\n",
        "  e.backward()\r\n",
        "  optimizer.step()\r\n",
        "  if not (i%1000) or i == 0 : \r\n",
        "    print(e)"
      ],
      "execution_count": null,
      "outputs": []
    },
    {
      "cell_type": "code",
      "metadata": {
        "id": "2wWLBxQ67Wfv"
      },
      "source": [
        "gpu = torch.device('cuda0') #sla\r\n",
        "p.to(gpu)\r\n",
        "Xt = Xt.to(gpu)\r\n",
        "Yt = Yt.to(gpu)"
      ],
      "execution_count": null,
      "outputs": []
    },
    {
      "cell_type": "code",
      "metadata": {
        "id": "HyJzO24p8jHQ"
      },
      "source": [
        "Xv = Xv.to(gpu)\r\n",
        "Yv = Yv.to(gpu)"
      ],
      "execution_count": null,
      "outputs": []
    },
    {
      "cell_type": "code",
      "metadata": {
        "id": "WRMkkJOQ8KGL"
      },
      "source": [
        "y = F.softmax(p(Xv), dim = 1)\r\n",
        "for y,y_hat in zip(Y,Yv):\r\n",
        "  print(y, y_hat)"
      ],
      "execution_count": null,
      "outputs": []
    },
    {
      "cell_type": "markdown",
      "metadata": {
        "id": "jC1zvxJzxluj"
      },
      "source": [
        "\r\n",
        "Keras "
      ]
    },
    {
      "cell_type": "code",
      "metadata": {
        "id": "3Q9mcknGn1Nr"
      },
      "source": [
        "import numpy as np\r\n",
        "from tensorflow import keras \r\n",
        "from tensorflow.keras import layers \r\n",
        "\r\n",
        "#np.set_printoptions(formater = {'float' : lambda x : '%+01.2f' %x})"
      ],
      "execution_count": null,
      "outputs": []
    },
    {
      "cell_type": "code",
      "metadata": {
        "colab": {
          "base_uri": "https://localhost:8080/"
        },
        "id": "gtTViQc6pSqn",
        "outputId": "876173b8-36b1-483e-a446-38d8d994996a"
      },
      "source": [
        "model = keras.Sequential(\r\n",
        "    [\r\n",
        "     keras.Input(shape=(4)),\r\n",
        "     layers.Dense(8, activation='sigmoid'),\r\n",
        "     layers.Dense(3, activation='softmax')\r\n",
        "    ]\r\n",
        ")\r\n",
        "\r\n",
        "model.summary()"
      ],
      "execution_count": null,
      "outputs": [
        {
          "output_type": "stream",
          "text": [
            "Model: \"sequential_1\"\n",
            "_________________________________________________________________\n",
            "Layer (type)                 Output Shape              Param #   \n",
            "=================================================================\n",
            "dense_2 (Dense)              (None, 8)                 40        \n",
            "_________________________________________________________________\n",
            "dense_3 (Dense)              (None, 3)                 27        \n",
            "=================================================================\n",
            "Total params: 67\n",
            "Trainable params: 67\n",
            "Non-trainable params: 0\n",
            "_________________________________________________________________\n"
          ],
          "name": "stdout"
        }
      ]
    },
    {
      "cell_type": "markdown",
      "metadata": {
        "id": "xjxEZtCorGdh"
      },
      "source": [
        "Compilar os dados"
      ]
    },
    {
      "cell_type": "code",
      "metadata": {
        "id": "V06PmUFmrFU5"
      },
      "source": [
        "model.compile(loss='categorical_crossentropy', \\\r\n",
        "              optimizer = 'adam', metrics = ['accuracy']\r\n",
        "              )"
      ],
      "execution_count": null,
      "outputs": []
    },
    {
      "cell_type": "code",
      "metadata": {
        "colab": {
          "base_uri": "https://localhost:8080/"
        },
        "id": "v_OLDaa4sosx",
        "outputId": "cd52e820-030a-418e-84e2-1b39cca3b8ba"
      },
      "source": [
        "model.fit(X, Y, batch_size=140, epochs=10001, verbose=False)"
      ],
      "execution_count": null,
      "outputs": [
        {
          "output_type": "execute_result",
          "data": {
            "text/plain": [
              "<tensorflow.python.keras.callbacks.History at 0x7fd6b0b7cb38>"
            ]
          },
          "metadata": {
            "tags": []
          },
          "execution_count": 15
        }
      ]
    },
    {
      "cell_type": "code",
      "metadata": {
        "id": "v_O392bltaE4"
      },
      "source": [
        ""
      ],
      "execution_count": null,
      "outputs": []
    }
  ]
}