{
  "nbformat": 4,
  "nbformat_minor": 0,
  "metadata": {
    "colab": {
      "name": "E06_SI - Algoritmo Genético Cart-Pole.ipynb",
      "provenance": [],
      "collapsed_sections": []
    },
    "kernelspec": {
      "name": "python3",
      "display_name": "Python 3"
    }
  },
  "cells": [
    {
      "cell_type": "markdown",
      "metadata": {
        "id": "eizGXZ-3QdAj"
      },
      "source": [
        "\r\n",
        "Tarefa avaliativa E06 de Sistemas inteligentes\r\n",
        "------\r\n",
        "Nome: Bruno Gabriel Flores Sampaio\r\n",
        "\r\n",
        "Matricula: 201720094\r\n"
      ]
    },
    {
      "cell_type": "code",
      "metadata": {
        "id": "FUbWip5jBmAM"
      },
      "source": [
        "#@title\n",
        "%%capture\n",
        "!pip install gym pyvirtualdisplay\n",
        "!apt-get install -y xvfb python-opengl ffmpeg\n",
        "!apt-get install build-essential python-dev swig python-pygame\n",
        "!apt-get update\n",
        "!apt-get install cmake\n",
        "!pip install --upgrade setuptools\n",
        "!pip install ez_setup\n",
        "!pip install gym\n",
        "!pip install box2d-py\n",
        "\n",
        "import gym\n",
        "from gym.wrappers import Monitor\n",
        "import glob\n",
        "import io\n",
        "import base64\n",
        "from IPython.display import HTML, clear_output, YouTubeVideo\n",
        "from pyvirtualdisplay import Display\n",
        "from IPython import display as ipythondisplay\n",
        "\n",
        "display = Display(visible=0, size=(1400, 900))\n",
        "display.start()\n",
        "\n",
        "\"\"\"\n",
        "Utility functions to enable video recording of gym environment \n",
        "and displaying it.\n",
        "To enable video, just do \"env = wrap_env(env)\"\"\n",
        "\"\"\"\n",
        "\n",
        "def show_video():\n",
        "  mp4list = glob.glob('video/*.mp4')\n",
        "  if len(mp4list) > 0:\n",
        "    mp4 = mp4list[0]\n",
        "    video = io.open(mp4, 'r+b').read()\n",
        "    encoded = base64.b64encode(video)\n",
        "    ipythondisplay.display(HTML(data='''<video alt=\"test\" autoplay \n",
        "                loop controls style=\"height: 400px;\">\n",
        "                <source src=\"data:video/mp4;base64,{0}\" type=\"video/mp4\" />\n",
        "             </video>'''.format(encoded.decode('ascii'))))\n",
        "  else: \n",
        "    print(\"Could not find video\")\n",
        "    \n",
        "\n",
        "def wrap_env(env):\n",
        "  env = Monitor(env, './video', force=True)\n",
        "  return env"
      ],
      "execution_count": null,
      "outputs": []
    },
    {
      "cell_type": "markdown",
      "metadata": {
        "id": "C4XavvvHBO9e"
      },
      "source": [
        "# E06 Algoritmo Genético Cart-Pole\n",
        "\n",
        "Neste exercício você vai usar o que aprendeu sobre algoritmos genéticos e neuro-evolução para implementar um algoritmo genético capaz de evoluir os parâmetros de uma rede neural que deverá controlar um sistema de pêndulo invertido.\n",
        "\n",
        "Em inglês conhecido como _cart-pole_, o pêndulo invertido é um problema clássico muito usado para fins didáticos, principalmente em disciplinas ligadas à modelagem e controle de sistemas dinâmicos em engenharia.\n",
        "\n",
        "Para entender melhor o problema, veja o vídeo abaixo, onde um aluno de graduação apresenta seu projeto de TCC:"
      ]
    },
    {
      "cell_type": "code",
      "metadata": {
        "id": "5lqvckCw8HIK"
      },
      "source": [
        "#YouTubeVideo('Pf79Z32B5Kk')"
      ],
      "execution_count": null,
      "outputs": []
    },
    {
      "cell_type": "markdown",
      "metadata": {
        "id": "09stoaYjFCXr"
      },
      "source": [
        "## Introdução\n",
        "\n",
        "Neste trabalho, você tomará como ponto de partida o [código disponível neste link aqui](https://colab.research.google.com/drive/1X68CYfPYcKN7qvPfOlkgGURP6E0PLE5X?usp=sharing). De forma muito semelhante ao código do link acima, aqui também utilizaremos um ambiente do OpenAI Gym - só que desta vez, ao invés de tentarmos aterrizar foquetes, tentaremos equilibrar o pêndulo.\n",
        "\n",
        "Veja o exemplo de código abaixo:"
      ]
    },
    {
      "cell_type": "code",
      "metadata": {
        "id": "jenqKbWhHAIx",
        "colab": {
          "base_uri": "https://localhost:8080/",
          "height": 438
        },
        "outputId": "52dc6965-bf38-49c2-c02e-9ee829da4faa"
      },
      "source": [
        "import numpy as np\n",
        "\n",
        "env = wrap_env(gym.make('CartPole-v0'))\n",
        "\n",
        "R = 0.0\n",
        "\n",
        "obs = env.reset()\n",
        "\n",
        "while True:\n",
        "\n",
        "  action = np.random.randint(0,2)                 # 0 ou  1\n",
        "  obs, reward, done, info = env.step(action)\n",
        "  \n",
        "  env.render()\n",
        "  \n",
        "  R += reward\n",
        "  \n",
        "  if done:\n",
        "    break\n",
        "\n",
        "print(R)\n",
        "env.close()\n",
        "show_video()"
      ],
      "execution_count": null,
      "outputs": [
        {
          "output_type": "stream",
          "text": [
            "14.0\n"
          ],
          "name": "stdout"
        },
        {
          "output_type": "display_data",
          "data": {
            "text/html": [
              "<video alt=\"test\" autoplay \n",
              "                loop controls style=\"height: 400px;\">\n",
              "                <source src=\"data:video/mp4;base64,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\" type=\"video/mp4\" />\n",
              "             </video>"
            ],
            "text/plain": [
              "<IPython.core.display.HTML object>"
            ]
          },
          "metadata": {
            "tags": []
          }
        }
      ]
    },
    {
      "cell_type": "markdown",
      "metadata": {
        "id": "V8SOKcivJQON"
      },
      "source": [
        "## Instruções\n",
        "\n",
        "Note que em termos dos formatos das entradas e saídas, este problema é muito semelhante ao do foguete. As diferenças principais se referem aos números: este problema conta com quatro variáveis observadas (entradas da rede neural) e com duas opções de ações (saídas da rede neural).\n",
        "\n",
        "Para resolver este problema, traga para cá o código de neuro-evolução que pousava o foguete, alterando-o conforme necessário para que desta vez faça o equilíbrio do pêndulo.\n",
        "\n",
        "A rede neural deverá possuir 4 entradas, 10 neurônios na camada escondida e 2 neurônios de saída. As entradas devem ser exatamente o vetor de observações da simulação (tamanho 4) e na saída, a maior deve ser considerada a ação escolhida.\n",
        "\n",
        "Ao final de seu código, para passar no teste, você deve garantir que a rede neural esteja gravada na variável global de nome **n**."
      ]
    },
    {
      "cell_type": "code",
      "metadata": {
        "id": "6yrHW5GxKURN"
      },
      "source": [
        "class Net():\r\n",
        "  def __init__(self, chromosome):\r\n",
        "    # 4 => 10 => 2\r\n",
        "    self.w1 = chromosome[:40].reshape((10,4))\r\n",
        "    self.b1 = chromosome[40:50].reshape((10,))\r\n",
        "    self.w2 = chromosome[50:70].reshape((2,10))\r\n",
        "    self.b2 = chromosome[70:].reshape((2,))\r\n",
        "\r\n",
        "  def forward(self, x):\r\n",
        "    s1 = np.dot(self.w1, x) + self.b1\r\n",
        "    z1 = s1 * (s1 > 0.0)\r\n",
        "    s2 = np.dot(self.w2, z1) + self.b2\r\n",
        "    z2 = s2 * (s2 > 0.0)\r\n",
        "    return z2.argmax()"
      ],
      "execution_count": null,
      "outputs": []
    },
    {
      "cell_type": "code",
      "metadata": {
        "id": "KRpNZweHK_FR"
      },
      "source": [
        "def create_individual():\r\n",
        "  # np.random.Normal usa => ( média, distribuição e tamanho)  \r\n",
        "  N = 4*10+10+10*2+2\r\n",
        "  chromossome = np.random.normal( 0, 10, size=(N,) )\r\n",
        "  return chromossome, None \r\n",
        "\r\n",
        "def create_population(size):\r\n",
        "  population = list()\r\n",
        "  for _ in range(size):\r\n",
        "    population.append( create_individual() )\r\n",
        "  return population \r\n",
        "\r\n",
        "def get_phenotype( chromossome ):\r\n",
        "  n = Net(chromossome )\r\n",
        "  return n \r\n",
        "\r\n",
        "def fitness(n):\r\n",
        "  R = 0.0\r\n",
        "  trials = 6\r\n",
        "  env = gym.make('CartPole-v0')\r\n",
        "  for _ in range(trials):\r\n",
        "    obs = env.reset()\r\n",
        "    while True:\r\n",
        "      action = n.forward(obs)\r\n",
        "      obs, reward, done, info = env.step(action)\r\n",
        "      R += reward\r\n",
        "      if done:\r\n",
        "        break\r\n",
        "  env.close()\r\n",
        "  return (10000.0 + R/trials) / 10000.0\r\n",
        "\r\n",
        "def crossover2point(chr1, chr2):\r\n",
        "  N = len(chr1)\r\n",
        "  idx1 = np.random.randint(0,N)\r\n",
        "  idx2 = np.random.randint(0,N)\r\n",
        "  if idx1 > idx2:\r\n",
        "    idx1, idx2 = idx2, idx1\r\n",
        "  new_chr1 = np.concatenate((chr1[0:idx1], chr2[idx1:idx2], chr1[idx2:]))\r\n",
        "  new_chr2 = np.concatenate((chr2[0:idx1], chr1[idx1:idx2], chr2[idx2:]))\r\n",
        "  return new_chr1, new_chr2\r\n",
        "\r\n",
        "def mutation(chr, p):\r\n",
        "  N = len(chr)\r\n",
        "  total = int(np.random.normal(p*N, p*N))\r\n",
        "  if total < 0:\r\n",
        "    total = 0\r\n",
        "  elif total > N:\r\n",
        "    total = N\r\n",
        "  for _ in range(total):\r\n",
        "    idx = np.random.randint(0, N)\r\n",
        "    if np.random.rand() > 0.5:\r\n",
        "      chr[idx] += np.random.normal(0, 1)\r\n",
        "    else:\r\n",
        "      chr[idx] = np.random.normal(0, 10)\r\n",
        "  return chr\r\n",
        "\r\n",
        "def compute_fitness(population):\r\n",
        "  scored = list()\r\n",
        "  for chromosome, score in population:\r\n",
        "    #if score is None:\r\n",
        "    n = get_phenotype(chromosome)\r\n",
        "    score = fitness(n)\r\n",
        "    scored.append((chromosome, score))\r\n",
        "  scored.sort(key=lambda x:x[1], reverse=True)\r\n",
        "  return scored\r\n",
        "\r\n",
        "def roulette(population):\r\n",
        "  fitnesses = np.array([np.exp(fitness) for _, fitness in population] )\r\n",
        "  total = np.sum(fitnesses)\r\n",
        "  fitnesses /= total\r\n",
        "  choice = np.random.rand()\r\n",
        "  subtotal = 0\r\n",
        "  idx = 0\r\n",
        "  for f in fitnesses:\r\n",
        "    subtotal += f\r\n",
        "    if subtotal >= choice or idx == len(fitnesses)-1:\r\n",
        "      break\r\n",
        "    idx += 1\r\n",
        "  return idx\r\n",
        "\r\n",
        "def new_generation(population, size, mutation_rate):\r\n",
        "  new_population = list()\r\n",
        "  while len(new_population) < size:\r\n",
        "    idx1 = roulette(population)\r\n",
        "    idx2 = roulette(population)\r\n",
        "    if idx1 == idx2:\r\n",
        "      continue\r\n",
        "    chr1, _ = population[idx1]\r\n",
        "    chr2, _ = population[idx2]\r\n",
        "    new_chr1, new_chr2 = crossover2point(chr1, chr2)\r\n",
        "    new_chr1 = mutation(new_chr1, mutation_rate)\r\n",
        "    new_chr2 = mutation(new_chr2, mutation_rate)\r\n",
        "    new_population.append((new_chr1, None))\r\n",
        "    new_population.append((new_chr2, None))\r\n",
        "  return new_population[:size]"
      ],
      "execution_count": null,
      "outputs": []
    },
    {
      "cell_type": "code",
      "metadata": {
        "id": "mhAJQZENL8Js"
      },
      "source": [
        "from matplotlib import pyplot as plt\r\n",
        "\r\n",
        "def genalg(pop_size, elite_size, epochs, mutation_rate):\r\n",
        "  x = list()\r\n",
        "  y = list()\r\n",
        "\r\n",
        "  population = create_population(pop_size)\r\n",
        "\r\n",
        "  for generation in range(epochs+1):\r\n",
        "\r\n",
        "    population = compute_fitness(population)\r\n",
        "\r\n",
        "    chr, fit = population[0]\r\n",
        "    _, worst = population[-1]\r\n",
        "    n = get_phenotype(chr)\r\n",
        "    y.append(fit)\r\n",
        "    x.append(generation)\r\n",
        "\r\n",
        "    R = 0.0\r\n",
        "    env = wrap_env(gym.make('CartPole-v0'))\r\n",
        "    obs = env.reset()\r\n",
        "\r\n",
        "    while True:\r\n",
        "      action = n.forward( obs )\r\n",
        "      obs, reward, done, info = env.step( action )\r\n",
        "      \r\n",
        "      env.render()\r\n",
        "      R += reward\r\n",
        "      if done:\r\n",
        "        break\r\n",
        "\r\n",
        "    print(R)\r\n",
        "    env.close()\r\n",
        "\r\n",
        "    clear_output()\r\n",
        "    print('Geração', generation, ', melhor:', fit, ', pior', worst)\r\n",
        "    show_video()\r\n",
        "      \r\n",
        "    plt.plot(x, y)\r\n",
        "    plt.show()\r\n",
        "\r\n",
        "    elite = population[:elite_size]\r\n",
        "    population = new_generation(population, pop_size - elite_size, mutation_rate) + elite\r\n",
        "  return n, x, y"
      ],
      "execution_count": null,
      "outputs": []
    },
    {
      "cell_type": "code",
      "metadata": {
        "id": "FjgHFrNzFZvH",
        "colab": {
          "base_uri": "https://localhost:8080/",
          "height": 686
        },
        "outputId": "5b2eb57a-5529-4638-b8e8-d50e9ec0a4bd"
      },
      "source": [
        "n, x, y = genalg(50, 3, 20, 0.03)"
      ],
      "execution_count": null,
      "outputs": [
        {
          "output_type": "stream",
          "text": [
            "Geração 20 , melhor: 1.02 , pior 1.00085\n"
          ],
          "name": "stdout"
        },
        {
          "output_type": "display_data",
          "data": {
            "text/html": [
              "<video alt=\"test\" autoplay \n",
              "                loop controls style=\"height: 400px;\">\n",
              "                <source src=\"data:video/mp4;base64,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\" type=\"video/mp4\" />\n",
              "             </video>"
            ],
            "text/plain": [
              "<IPython.core.display.HTML object>"
            ]
          },
          "metadata": {
            "tags": []
          }
        },
        {
          "output_type": "display_data",
          "data": {
            "image/png": "[encoded data removed]",
            "text/plain": [
              "<Figure size 432x288 with 1 Axes>"
            ]
          },
          "metadata": {
            "tags": [],
            "needs_background": "light"
          }
        }
      ]
    },
    {
      "cell_type": "markdown",
      "metadata": {
        "id": "ZKOlKs1D_FKY"
      },
      "source": [
        "## Avaliação\n",
        "\n",
        "Para concluir com sucesso este exercício com avaliação 100%, seu algoritmo deve  gerar uma rede neural capaz de controlar o pêngulo gerando uma soma total de reforços R=1.02. Se você conseguir menos que 1.01 < R < 1.02 sua nota será reduzida para 70%, e se conseguir 0.5 < R < 1.0 sua nota será 50%. Se R < 0.5 ou se o código não executar, sua nota será nula para este exercício."
      ]
    },
    {
      "cell_type": "code",
      "metadata": {
        "colab": {
          "base_uri": "https://localhost:8080/"
        },
        "id": "wr8D-I56PizD",
        "outputId": "730cee62-b578-414a-db5f-4ed1b3f51a5f"
      },
      "source": [
        "print( max(y) )"
      ],
      "execution_count": null,
      "outputs": [
        {
          "output_type": "stream",
          "text": [
            "1.02\n"
          ],
          "name": "stdout"
        }
      ]
    }
  ]
}