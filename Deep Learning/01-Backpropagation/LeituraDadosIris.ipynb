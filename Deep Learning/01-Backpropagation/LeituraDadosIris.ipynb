{
  "nbformat": 4,
  "nbformat_minor": 0,
  "metadata": {
    "colab": {
      "name": "E03_DL - LeituraDados.ipynb",
      "provenance": [],
      "collapsed_sections": []
    },
    "kernelspec": {
      "name": "python3",
      "display_name": "Python 3"
    }
  },
  "cells": [
    {
      "cell_type": "markdown",
      "metadata": {
        "id": "kS6Dl75SNeO5"
      },
      "source": [
        "**0.1)Há células de texto, identificando o grupo, seus membros e explicando cada etapa do código?**\n",
        "\n",
        "---\n",
        "\n",
        "Aluno1: Bruno Gabriel Flores Sampaio     \n",
        "\n",
        "Matrícula: 201720094\n",
        "\n",
        "---\n",
        "\n",
        "Aluno2: Gabriel Freitas \n",
        "\n",
        "Matrícula: 201520391\n",
        "\n",
        "---\n",
        "\n",
        "Aluno3: Jeferson Rodrigues Silva\n",
        "\n",
        "Matrícula: 201621154\n",
        "\n",
        "---\n",
        "\n",
        "\n",
        "**0.2) O código está documentado com comentários mostrando exatamente onde se cumpre cada um dos requisitos acima?\t\n",
        "0.3) Há células de texto, identificando o grupo, seus membros e explicando cada etapa do código?**"
      ]
    },
    {
      "cell_type": "code",
      "metadata": {
        "id": "XBLmTY2JD2PJ",
        "colab": {
          "base_uri": "https://localhost:8080/"
        },
        "outputId": "16b8bbda-f5f6-47ea-bb4f-22446ecc1176"
      },
      "source": [
        "! rm Iris.csv"
      ],
      "execution_count": null,
      "outputs": [
        {
          "output_type": "stream",
          "text": [
            "rm: cannot remove 'Iris.csv': No such file or directory\n"
          ],
          "name": "stdout"
        }
      ]
    },
    {
      "cell_type": "code",
      "metadata": {
        "id": "kDZzHcZZefK-"
      },
      "source": [
        ""
      ],
      "execution_count": null,
      "outputs": []
    },
    {
      "cell_type": "markdown",
      "metadata": {
        "id": "jwouITh9EMtt"
      },
      "source": [
        "**1) Faz upload do arquivo local**"
      ]
    },
    {
      "cell_type": "code",
      "metadata": {
        "id": "My99wWDZEDGF",
        "colab": {
          "resources": {
            "http://localhost:8080/nbextensions/google.colab/files.js": {
              "data": "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",
              "ok": true,
              "headers": [
                [
                  "content-type",
                  "application/javascript"
                ]
              ],
              "status": 200,
              "status_text": ""
            }
          },
          "base_uri": "https://localhost:8080/",
          "height": 74
        },
        "outputId": "a937aaff-eec2-46c1-9acc-28b9ffd07bf6"
      },
      "source": [
        "# Datashet Iris Flower Datashet\n",
        "# 3 tipos de Iris (Iris Virginica - Iris Setosa - Iris Versicolor)\n",
        "\n",
        "# Permite o Google fazer upload \n",
        "from google.colab import files \n",
        "import io\n",
        "\n",
        "# Faz o upload do arquivo csv\n",
        "upFile = files.upload()"
      ],
      "execution_count": null,
      "outputs": [
        {
          "output_type": "display_data",
          "data": {
            "text/html": [
              "\n",
              "     <input type=\"file\" id=\"files-6e09ad8c-8166-4c6c-95a7-e2e14e8bcbdd\" name=\"files[]\" multiple disabled\n",
              "        style=\"border:none\" />\n",
              "     <output id=\"result-6e09ad8c-8166-4c6c-95a7-e2e14e8bcbdd\">\n",
              "      Upload widget is only available when the cell has been executed in the\n",
              "      current browser session. Please rerun this cell to enable.\n",
              "      </output>\n",
              "      <script src=\"/nbextensions/google.colab/files.js\"></script> "
            ],
            "text/plain": [
              "<IPython.core.display.HTML object>"
            ]
          },
          "metadata": {
            "tags": []
          }
        },
        {
          "output_type": "stream",
          "text": [
            "Saving Iris.csv to Iris (1).csv\n"
          ],
          "name": "stdout"
        }
      ]
    },
    {
      "cell_type": "markdown",
      "metadata": {
        "id": "dPl-0zVjEVVM"
      },
      "source": [
        "**2) Lê todas as linhas**"
      ]
    },
    {
      "cell_type": "code",
      "metadata": {
        "id": "0V4OqQpwEHa1"
      },
      "source": [
        "# Executa o binário do arquivo csv\n",
        "File = io.BytesIO(upFile[\"Iris.csv\"])\n",
        "\n",
        "# Mantem o ponteiro de leitura no primeiro byte\n",
        "File.seek(0)\n",
        "# Lê as linhas do arquivo ('\\n')\n",
        "Lines = File.readlines()"
      ],
      "execution_count": null,
      "outputs": []
    },
    {
      "cell_type": "code",
      "metadata": {
        "id": "FEqs5KxeEKmG"
      },
      "source": [
        "import numpy as np \n",
        "\n",
        "x = np.zeros((len(Lines)-1, 4), dtype='float')\n",
        "y = np.zeros((len(Lines)-1,3), dtype='float')\n",
        "\n",
        "categorias = np.array((\"Iris-setosa\", 'Iris-versicolor', 'Iris-virginica'))"
      ],
      "execution_count": null,
      "outputs": []
    },
    {
      "cell_type": "markdown",
      "metadata": {
        "id": "-ibxHanqEnh4"
      },
      "source": [
        "**3) Remove o cabeçalho (Primeira linha)**"
      ]
    },
    {
      "cell_type": "code",
      "metadata": {
        "id": "pvejBpdNElkv"
      },
      "source": [
        "# Guarda as informações do cabeçalho antes de remover\n",
        "header = Lines[0][:-1].decode().split(',')\n",
        "# Remove a linha 0 (cabeçalho)\n",
        "Lines.remove(Lines[0])"
      ],
      "execution_count": null,
      "outputs": []
    },
    {
      "cell_type": "markdown",
      "metadata": {
        "id": "q5WnnjjzGQko"
      },
      "source": [
        "**4) Mostra o número total de linhas**"
      ]
    },
    {
      "cell_type": "code",
      "metadata": {
        "id": "OadztYeRFjsp",
        "colab": {
          "base_uri": "https://localhost:8080/"
        },
        "outputId": "31217631-464b-4c46-a4e1-c1f70a9dac94"
      },
      "source": [
        "print(\"O número total de linhas de dados é \", len(Lines) )"
      ],
      "execution_count": null,
      "outputs": [
        {
          "output_type": "stream",
          "text": [
            "O número total de linhas de dados é  148\n"
          ],
          "name": "stdout"
        }
      ]
    },
    {
      "cell_type": "code",
      "metadata": {
        "id": "Fq9_TClMqtgU",
        "colab": {
          "base_uri": "https://localhost:8080/"
        },
        "outputId": "6b0a0c66-a5b0-4616-bd78-c9aa7c8d1e64"
      },
      "source": [
        "print(header)"
      ],
      "execution_count": null,
      "outputs": [
        {
          "output_type": "stream",
          "text": [
            "['2', '4.9', '3.0', '1.4', '0.2', 'Iris-setosa']\n"
          ],
          "name": "stdout"
        }
      ]
    },
    {
      "cell_type": "markdown",
      "metadata": {
        "id": "ykf1mNbRGh7l"
      },
      "source": [
        "**5)Decodifica as linhas para string simples?\t\n",
        "6)Remove '\\n' do final de cada linha?\t\n",
        "7)Separa os dados de cada linha usando vírgula como espaçador?\t\n",
        "8)Cria uma array do NumPy com todos dados de entrada no formato ponto flutuante?\n",
        "9)Cria outra array do NumPy com as saídas no formato one-hot?**"
      ]
    },
    {
      "cell_type": "code",
      "metadata": {
        "id": "xBpTfOnvEhs1"
      },
      "source": [
        "for id, line in enumerate(Lines[1:]):\n",
        "\n",
        "  # underscore ignora os elementos dessa posição\n",
        "  _, sl, sw, pl, pw, s = line[:-1].decode().split(\",\")\n",
        "  \n",
        "  # Converte os elementos lidos para float\n",
        "  sl = float(sl)\n",
        "  sw = float(sw)\n",
        "  \n",
        "  pl = float(pl)\n",
        "  pw = float(pw)\n",
        "\n",
        "  # Monta um array com os valores de entrada em X\n",
        "  x[id:] = np.array([sl,sw,pl,pw])\n",
        "  # Monta os valores de saída no estilo One-Hot\n",
        "  y[id:] = (categorias == s).astype('float')\n",
        "\n",
        "  print(x[id],y[id])\n"
      ],
      "execution_count": null,
      "outputs": []
    },
    {
      "cell_type": "markdown",
      "metadata": {
        "id": "YcYqhtwyHQXX"
      },
      "source": [
        "**9)Encontra o maior e o menor valor para cada coluna do array de entradas?**"
      ]
    },
    {
      "cell_type": "code",
      "metadata": {
        "id": "MmWlyOzEHPnG"
      },
      "source": [
        "maxCol = [ 0 for num in range(len(x[0]))]\n",
        "minCol = [ 0 for num in range(len(x[0]))]\n",
        "\n",
        "for i in range(len(x[0])):\n",
        "  # Minimo e Máximo obtidos com a função Min Max da transposta de X\n",
        "  maxCol[i] = max(x.T[i])\n",
        "  minCol[i] = min(x.T[i])\n",
        "  print(\"Máximo coluna %s : %s \\nMinimo coluna %s : %s\\n\" %(i, maxCol[i], i, minCol[i]) )"
      ],
      "execution_count": null,
      "outputs": []
    },
    {
      "cell_type": "markdown",
      "metadata": {
        "id": "Na-gnPJ3JfwH"
      },
      "source": [
        "**10)Normaliza o array de entradas para que todos valores estejam no intervalo de 0 a 1?** \n",
        "\n",
        "**11)O valor mínimo corresponde ao zero e o valor máximo corresponde a 1 para cada coluna?**"
      ]
    },
    {
      "cell_type": "code",
      "metadata": {
        "id": "nTkiZhUsJfiR"
      },
      "source": [
        "normalizado = []\n",
        "\n",
        "for i in range(4):\n",
        "  # Utiliza o método de normalização de um elemento\n",
        "  normalizado.append((x.T[i] - minCol[i]) / (maxCol[i]-minCol[i]))\n",
        "print(normalizado)"
      ],
      "execution_count": null,
      "outputs": []
    },
    {
      "cell_type": "markdown",
      "metadata": {
        "id": "qSJ7SipHD7AR"
      },
      "source": [
        "\n",
        "**Embaralha as linhas das entradas e das saídas, mantendo os pares correspondentes?**"
      ]
    },
    {
      "cell_type": "code",
      "metadata": {
        "id": "DK9vd1BOOvah",
        "colab": {
          "base_uri": "https://localhost:8080/"
        },
        "outputId": "1314977c-00e6-4951-e498-0b299270cc91"
      },
      "source": [
        "from random import shuffle \n",
        "\n",
        "dataArray = []\n",
        "\n",
        "for i in range(len(x)):\n",
        "  # Junta os dados em uma só array no estilo [(entrada), (saída)]\n",
        "  dataArray.append( (x[i], y[i]) )\n",
        "\n",
        "# Embaralha usando o método shuffle do random\n",
        "shuffle(dataArray)\n",
        "\n",
        "#print(dataArray[0][0], dataArray[0][1])\n",
        "print(dataArray)\n"
      ],
      "execution_count": null,
      "outputs": [
        {
          "output_type": "stream",
          "text": [
            "[(array([7. , 3.2, 4.7, 1.4]), array([0., 1., 0.])), (array([7.3, 2.9, 6.3, 1.8]), array([0., 0., 1.])), (array([5.1, 3.3, 1.7, 0.5]), array([1., 0., 0.])), (array([5.4, 3. , 4.5, 1.5]), array([0., 1., 0.])), (array([5.7, 3. , 4.2, 1.2]), array([0., 1., 0.])), (array([6.3, 2.9, 5.6, 1.8]), array([0., 0., 1.])), (array([6.3, 3.3, 6. , 2.5]), array([0., 0., 1.])), (array([5.4, 3.4, 1.5, 0.4]), array([1., 0., 0.])), (array([5.5, 2.6, 4.4, 1.2]), array([0., 1., 0.])), (array([7.2, 3.2, 6. , 1.8]), array([0., 0., 1.])), (array([4.3, 3. , 1.1, 0.1]), array([1., 0., 0.])), (array([5. , 3.4, 1.5, 0.2]), array([1., 0., 0.])), (array([7.6, 3. , 6.6, 2.1]), array([0., 0., 1.])), (array([6.2, 2.9, 4.3, 1.3]), array([0., 1., 0.])), (array([6.4, 3.1, 5.5, 1.8]), array([0., 0., 1.])), (array([5. , 3.4, 1.6, 0.4]), array([1., 0., 0.])), (array([5.8, 2.7, 4.1, 1. ]), array([0., 1., 0.])), (array([4.9, 3.1, 1.5, 0.1]), array([1., 0., 0.])), (array([7.7, 2.8, 6.7, 2. ]), array([0., 0., 1.])), (array([4.5, 2.3, 1.3, 0.3]), array([1., 0., 0.])), (array([6.7, 2.5, 5.8, 1.8]), array([0., 0., 1.])), (array([6. , 3.4, 4.5, 1.6]), array([0., 1., 0.])), (array([5.3, 3.7, 1.5, 0.2]), array([1., 0., 0.])), (array([6.3, 3.4, 5.6, 2.4]), array([0., 0., 1.])), (array([5.4, 3.9, 1.3, 0.4]), array([1., 0., 0.])), (array([5.1, 3.8, 1.5, 0.3]), array([1., 0., 0.])), (array([5.6, 3. , 4.1, 1.3]), array([0., 1., 0.])), (array([7.7, 3. , 6.1, 2.3]), array([0., 0., 1.])), (array([6.4, 3.2, 5.3, 2.3]), array([0., 0., 1.])), (array([5.1, 3.4, 1.5, 0.2]), array([1., 0., 0.])), (array([6.4, 2.7, 5.3, 1.9]), array([0., 0., 1.])), (array([5. , 3.3, 1.4, 0.2]), array([1., 0., 0.])), (array([6.5, 3. , 5.5, 1.8]), array([0., 0., 1.])), (array([5.8, 2.8, 5.1, 2.4]), array([0., 0., 1.])), (array([5.1, 3.8, 1.6, 0.2]), array([1., 0., 0.])), (array([5.5, 2.5, 4. , 1.3]), array([0., 1., 0.])), (array([5.8, 2.7, 5.1, 1.9]), array([0., 0., 1.])), (array([4.4, 3. , 1.3, 0.2]), array([1., 0., 0.])), (array([6.3, 2.8, 5.1, 1.5]), array([0., 0., 1.])), (array([5.7, 3.8, 1.7, 0.3]), array([1., 0., 0.])), (array([7.2, 3. , 5.8, 1.6]), array([0., 0., 1.])), (array([4.4, 2.9, 1.4, 0.2]), array([1., 0., 0.])), (array([6.8, 3.2, 5.9, 2.3]), array([0., 0., 1.])), (array([6.5, 3. , 5.8, 2.2]), array([0., 0., 1.])), (array([5. , 3.5, 1.3, 0.3]), array([1., 0., 0.])), (array([5.2, 2.7, 3.9, 1.4]), array([0., 1., 0.])), (array([6.4, 2.9, 4.3, 1.3]), array([0., 1., 0.])), (array([5.8, 4. , 1.2, 0.2]), array([1., 0., 0.])), (array([5.1, 3.5, 1.4, 0.3]), array([1., 0., 0.])), (array([5.5, 3.5, 1.3, 0.2]), array([1., 0., 0.])), (array([4.6, 3.2, 1.4, 0.2]), array([1., 0., 0.])), (array([5. , 3. , 1.6, 0.2]), array([1., 0., 0.])), (array([6.3, 3.3, 4.7, 1.6]), array([0., 1., 0.])), (array([5.7, 2.5, 5. , 2. ]), array([0., 0., 1.])), (array([6.1, 2.9, 4.7, 1.4]), array([0., 1., 0.])), (array([6.4, 2.8, 5.6, 2.1]), array([0., 0., 1.])), (array([6.8, 2.8, 4.8, 1.4]), array([0., 1., 0.])), (array([7.7, 2.6, 6.9, 2.3]), array([0., 0., 1.])), (array([6. , 2.2, 5. , 1.5]), array([0., 0., 1.])), (array([5.5, 2.3, 4. , 1.3]), array([0., 1., 0.])), (array([5.2, 3.4, 1.4, 0.2]), array([1., 0., 0.])), (array([6.9, 3.1, 5.1, 2.3]), array([0., 0., 1.])), (array([6.1, 3. , 4.6, 1.4]), array([0., 1., 0.])), (array([4.6, 3.6, 1. , 0.2]), array([1., 0., 0.])), (array([6.6, 2.9, 4.6, 1.3]), array([0., 1., 0.])), (array([5.8, 2.7, 5.1, 1.9]), array([0., 0., 1.])), (array([4.8, 3.1, 1.6, 0.2]), array([1., 0., 0.])), (array([6. , 2.9, 4.5, 1.5]), array([0., 1., 0.])), (array([5.9, 3.2, 4.8, 1.8]), array([0., 1., 0.])), (array([5. , 3.5, 1.6, 0.6]), array([1., 0., 0.])), (array([6.7, 3.3, 5.7, 2.5]), array([0., 0., 1.])), (array([5.6, 3. , 4.5, 1.5]), array([0., 1., 0.])), (array([5.6, 2.7, 4.2, 1.3]), array([0., 1., 0.])), (array([6.3, 2.5, 4.9, 1.5]), array([0., 1., 0.])), (array([5.1, 3.8, 1.9, 0.4]), array([1., 0., 0.])), (array([6.9, 3.2, 5.7, 2.3]), array([0., 0., 1.])), (array([6.9, 3.1, 5.4, 2.1]), array([0., 0., 1.])), (array([7.4, 2.8, 6.1, 1.9]), array([0., 0., 1.])), (array([6.7, 3. , 5.2, 2.3]), array([0., 0., 1.])), (array([5.9, 3. , 4.2, 1.5]), array([0., 1., 0.])), (array([6.1, 2.6, 5.6, 1.4]), array([0., 0., 1.])), (array([4.8, 3. , 1.4, 0.3]), array([1., 0., 0.])), (array([6.9, 3.1, 4.9, 1.5]), array([0., 1., 0.])), (array([4.7, 3.2, 1.3, 0.2]), array([1., 0., 0.])), (array([4.8, 3. , 1.4, 0.1]), array([1., 0., 0.])), (array([7.1, 3. , 5.9, 2.1]), array([0., 0., 1.])), (array([5.1, 2.5, 3. , 1.1]), array([0., 1., 0.])), (array([5.8, 2.6, 4. , 1.2]), array([0., 1., 0.])), (array([4.9, 3.1, 1.5, 0.1]), array([1., 0., 0.])), (array([6.4, 3.2, 4.5, 1.5]), array([0., 1., 0.])), (array([5.4, 3.4, 1.7, 0.2]), array([1., 0., 0.])), (array([6.7, 3. , 5. , 1.7]), array([0., 1., 0.])), (array([6.3, 2.5, 5. , 1.9]), array([0., 0., 1.])), (array([5.9, 3. , 5.1, 1.8]), array([0., 0., 1.])), (array([5.5, 4.2, 1.4, 0.2]), array([1., 0., 0.])), (array([5.7, 2.6, 3.5, 1. ]), array([0., 1., 0.])), (array([4.9, 3. , 1.4, 0.2]), array([1., 0., 0.])), (array([5.6, 2.8, 4.9, 2. ]), array([0., 0., 1.])), (array([5.5, 2.4, 3.8, 1.1]), array([0., 1., 0.])), (array([5.2, 4.1, 1.5, 0.1]), array([1., 0., 0.])), (array([6.1, 2.8, 4.7, 1.2]), array([0., 1., 0.])), (array([4.8, 3.4, 1.9, 0.2]), array([1., 0., 0.])), (array([6.1, 3. , 4.9, 1.8]), array([0., 0., 1.])), (array([6.7, 3.1, 4.7, 1.5]), array([0., 1., 0.])), (array([6.3, 2.7, 4.9, 1.8]), array([0., 0., 1.])), (array([5. , 2.3, 3.3, 1. ]), array([0., 1., 0.])), (array([6.7, 3.1, 5.6, 2.4]), array([0., 0., 1.])), (array([7.7, 3.8, 6.7, 2.2]), array([0., 0., 1.])), (array([6. , 2.2, 4. , 1. ]), array([0., 1., 0.])), (array([5. , 3.2, 1.2, 0.2]), array([1., 0., 0.])), (array([7.9, 3.8, 6.4, 2. ]), array([0., 0., 1.])), (array([6.4, 2.8, 5.6, 2.2]), array([0., 0., 1.])), (array([6.1, 2.8, 4. , 1.3]), array([0., 1., 0.])), (array([4.6, 3.4, 1.4, 0.3]), array([1., 0., 0.])), (array([5.6, 2.9, 3.6, 1.3]), array([0., 1., 0.])), (array([6.8, 3. , 5.5, 2.1]), array([0., 0., 1.])), (array([5. , 2. , 3.5, 1. ]), array([0., 1., 0.])), (array([6.2, 2.2, 4.5, 1.5]), array([0., 1., 0.])), (array([5.8, 2.7, 3.9, 1.2]), array([0., 1., 0.])), (array([5. , 3.6, 1.4, 0.2]), array([1., 0., 0.])), (array([5.7, 4.4, 1.5, 0.4]), array([1., 0., 0.])), (array([6.5, 3.2, 5.1, 2. ]), array([0., 0., 1.])), (array([5.5, 2.4, 3.7, 1. ]), array([0., 1., 0.])), (array([6. , 2.7, 5.1, 1.6]), array([0., 1., 0.])), (array([6.6, 3. , 4.4, 1.4]), array([0., 1., 0.])), (array([6.5, 2.8, 4.6, 1.5]), array([0., 1., 0.])), (array([5.4, 3.7, 1.5, 0.2]), array([1., 0., 0.])), (array([6.2, 2.8, 4.8, 1.8]), array([0., 0., 1.])), (array([5.7, 2.8, 4.1, 1.3]), array([0., 1., 0.])), (array([5.4, 3.9, 1.7, 0.4]), array([1., 0., 0.])), (array([5.2, 3.5, 1.5, 0.2]), array([1., 0., 0.])), (array([6.7, 3.1, 4.4, 1.4]), array([0., 1., 0.])), (array([4.9, 2.5, 4.5, 1.7]), array([0., 0., 1.])), (array([5.1, 3.7, 1.5, 0.4]), array([1., 0., 0.])), (array([4.4, 3.2, 1.3, 0.2]), array([1., 0., 0.])), (array([7.2, 3.6, 6.1, 2.5]), array([0., 0., 1.])), (array([6.7, 3.3, 5.7, 2.1]), array([0., 0., 1.])), (array([5.7, 2.9, 4.2, 1.3]), array([0., 1., 0.])), (array([5.9, 3. , 5.1, 1.8]), array([0., 0., 1.])), (array([4.9, 3.1, 1.5, 0.1]), array([1., 0., 0.])), (array([4.6, 3.1, 1.5, 0.2]), array([1., 0., 0.])), (array([6.2, 3.4, 5.4, 2.3]), array([0., 0., 1.])), (array([4.8, 3.4, 1.6, 0.2]), array([1., 0., 0.])), (array([6.3, 2.3, 4.4, 1.3]), array([0., 1., 0.])), (array([4.7, 3.2, 1.6, 0.2]), array([1., 0., 0.])), (array([4.9, 2.4, 3.3, 1. ]), array([0., 1., 0.])), (array([6. , 3. , 4.8, 1.8]), array([0., 0., 1.])), (array([5.6, 2.5, 3.9, 1.1]), array([0., 1., 0.])), (array([6.5, 3. , 5.2, 2. ]), array([0., 0., 1.])), (array([5.7, 2.8, 4.5, 1.3]), array([0., 1., 0.]))]\n"
          ],
          "name": "stdout"
        }
      ]
    },
    {
      "cell_type": "markdown",
      "metadata": {
        "id": "aihLCu5MOzD-"
      },
      "source": [
        "**Separa dados de treinamento e validação na proporção 90%/10%?** "
      ]
    },
    {
      "cell_type": "code",
      "metadata": {
        "id": "svWaFvMlSE5L",
        "colab": {
          "base_uri": "https://localhost:8080/"
        },
        "outputId": "e8adf31d-99c8-4f72-e189-fdb54f8e7a60"
      },
      "source": [
        "from random import randint \n",
        "\n",
        "treinamento = []\n",
        "validacao = []\n",
        "\n",
        "for data in dataArray:\n",
        "  if randint(0,100) > 90: \n",
        "    treinamento.append(data[0])\n",
        "  else: \n",
        "    validacao.append(data)\n",
        "\n",
        "# Print do total de cada parte \n",
        "print(len(validacao), len(treinamento))\n",
        "\n",
        "# print da porcentagem de cada um \n",
        "print(len(validacao)*100/150, len(treinamento)*100/150)\n"
      ],
      "execution_count": null,
      "outputs": [
        {
          "output_type": "stream",
          "text": [
            "136 14\n",
            "90.66666666666667 9.333333333333334\n"
          ],
          "name": "stdout"
        }
      ]
    }
  ]
}