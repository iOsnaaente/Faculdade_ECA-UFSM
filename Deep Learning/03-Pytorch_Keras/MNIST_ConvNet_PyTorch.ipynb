{
  "nbformat": 4,
  "nbformat_minor": 0,
  "metadata": {
    "colab": {
      "name": "MNIST_ConvNet_PyTorch.ipynb",
      "provenance": [],
      "collapsed_sections": []
    },
    "kernelspec": {
      "name": "python3",
      "display_name": "Python 3"
    },
    "accelerator": "GPU"
  },
  "cells": [
    {
      "cell_type": "markdown",
      "metadata": {
        "id": "YJ0oxU79FwoT"
      },
      "source": [
        "# Video-Aula"
      ]
    },
    {
      "cell_type": "code",
      "metadata": {
        "colab": {
          "base_uri": "https://localhost:8080/",
          "height": 321
        },
        "id": "M5CzQj6-F0-Y",
        "outputId": "5e003c50-e33b-4024-e32d-fc8cb61c0811"
      },
      "source": [
        "from IPython.display import YouTubeVideo\n",
        "YouTubeVideo('xRC95W55Y8g')"
      ],
      "execution_count": null,
      "outputs": [
        {
          "output_type": "execute_result",
          "data": {
            "text/html": [
              "\n",
              "        <iframe\n",
              "            width=\"400\"\n",
              "            height=\"300\"\n",
              "            src=\"https://www.youtube.com/embed/xRC95W55Y8g\"\n",
              "            frameborder=\"0\"\n",
              "            allowfullscreen\n",
              "        ></iframe>\n",
              "        "
            ],
            "text/plain": [
              "<IPython.lib.display.YouTubeVideo at 0x7ff8453be908>"
            ],
            "image/jpeg": "[encoded data removed]"
          },
          "metadata": {
            "tags": []
          },
          "execution_count": 1
        }
      ]
    },
    {
      "cell_type": "markdown",
      "metadata": {
        "id": "OrgR4QVdZr0a"
      },
      "source": [
        "## Obtenção dos Dados\n",
        "\n",
        "Este código baixa os arquivos do [_dataset_ MNIST](https://en.wikipedia.org/wiki/MNIST_database) a partir do [site](http://yann.lecun.com/exdb/mnist/) do [Prof. Yann LeCun](https://en.wikipedia.org/wiki/Yann_LeCun)."
      ]
    },
    {
      "cell_type": "code",
      "metadata": {
        "id": "D1ysJPoDYhDm",
        "colab": {
          "base_uri": "https://localhost:8080/"
        },
        "outputId": "4c0ec57f-947b-4a03-e934-92cc9f5e4db6"
      },
      "source": [
        "# Imagens de treinamento\n",
        "!wget http://yann.lecun.com/exdb/mnist/train-images-idx3-ubyte.gz -O train-images-idx3-ubyte.gz\n",
        "# Rótulos (classes)\n",
        "!wget http://yann.lecun.com/exdb/mnist/train-labels-idx1-ubyte.gz -O train-labels-idx1-ubyte.gz\n",
        "# Imagens de validação\n",
        "!wget http://yann.lecun.com/exdb/mnist/t10k-images-idx3-ubyte.gz -O t10k-images-idx3-ubyte.gz\n",
        "# Rótulos de validação (classes)\n",
        "!wget http://yann.lecun.com/exdb/mnist/t10k-labels-idx1-ubyte.gz -O t10k-labels-idx1-ubyte.gz"
      ],
      "execution_count": null,
      "outputs": [
        {
          "output_type": "stream",
          "text": [
            "--2020-12-17 06:51:39--  http://yann.lecun.com/exdb/mnist/train-images-idx3-ubyte.gz\n",
            "Resolving yann.lecun.com (yann.lecun.com)... 172.67.171.76, 104.28.6.204, 104.28.7.204, ...\n",
            "Connecting to yann.lecun.com (yann.lecun.com)|172.67.171.76|:80... connected.\n",
            "HTTP request sent, awaiting response... 200 OK\n",
            "Length: 9912422 (9.5M) [application/x-gzip]\n",
            "Saving to: ‘train-images-idx3-ubyte.gz’\n",
            "\n",
            "train-images-idx3-u 100%[===================>]   9.45M  54.6MB/s    in 0.2s    \n",
            "\n",
            "2020-12-17 06:51:39 (54.6 MB/s) - ‘train-images-idx3-ubyte.gz’ saved [9912422/9912422]\n",
            "\n",
            "--2020-12-17 06:51:39--  http://yann.lecun.com/exdb/mnist/train-labels-idx1-ubyte.gz\n",
            "Resolving yann.lecun.com (yann.lecun.com)... 172.67.171.76, 104.28.6.204, 104.28.7.204, ...\n",
            "Connecting to yann.lecun.com (yann.lecun.com)|172.67.171.76|:80... connected.\n",
            "HTTP request sent, awaiting response... 200 OK\n",
            "Length: 28881 (28K) [application/x-gzip]\n",
            "Saving to: ‘train-labels-idx1-ubyte.gz’\n",
            "\n",
            "train-labels-idx1-u 100%[===================>]  28.20K  --.-KB/s    in 0.01s   \n",
            "\n",
            "2020-12-17 06:51:39 (2.24 MB/s) - ‘train-labels-idx1-ubyte.gz’ saved [28881/28881]\n",
            "\n",
            "--2020-12-17 06:51:39--  http://yann.lecun.com/exdb/mnist/t10k-images-idx3-ubyte.gz\n",
            "Resolving yann.lecun.com (yann.lecun.com)... 172.67.171.76, 104.28.6.204, 104.28.7.204, ...\n",
            "Connecting to yann.lecun.com (yann.lecun.com)|172.67.171.76|:80... connected.\n",
            "HTTP request sent, awaiting response... 200 OK\n",
            "Length: 1648877 (1.6M) [application/x-gzip]\n",
            "Saving to: ‘t10k-images-idx3-ubyte.gz’\n",
            "\n",
            "t10k-images-idx3-ub 100%[===================>]   1.57M  --.-KB/s    in 0.08s   \n",
            "\n",
            "2020-12-17 06:51:40 (18.6 MB/s) - ‘t10k-images-idx3-ubyte.gz’ saved [1648877/1648877]\n",
            "\n",
            "--2020-12-17 06:51:40--  http://yann.lecun.com/exdb/mnist/t10k-labels-idx1-ubyte.gz\n",
            "Resolving yann.lecun.com (yann.lecun.com)... 172.67.171.76, 104.28.6.204, 104.28.7.204, ...\n",
            "Connecting to yann.lecun.com (yann.lecun.com)|172.67.171.76|:80... connected.\n",
            "HTTP request sent, awaiting response... 200 OK\n",
            "Length: 4542 (4.4K) [application/x-gzip]\n",
            "Saving to: ‘t10k-labels-idx1-ubyte.gz’\n",
            "\n",
            "t10k-labels-idx1-ub 100%[===================>]   4.44K  --.-KB/s    in 0s      \n",
            "\n",
            "2020-12-17 06:51:40 (587 MB/s) - ‘t10k-labels-idx1-ubyte.gz’ saved [4542/4542]\n",
            "\n"
          ],
          "name": "stdout"
        }
      ]
    },
    {
      "cell_type": "markdown",
      "metadata": {
        "id": "h-9Bk13cH3Qp"
      },
      "source": [
        "Abaixo extraímos os arquivos comprimidos. "
      ]
    },
    {
      "cell_type": "code",
      "metadata": {
        "id": "0Y07CnRjaJYU"
      },
      "source": [
        "# Extrai os arquivos treinamento\n",
        "!gunzip -f *.gz"
      ],
      "execution_count": null,
      "outputs": []
    },
    {
      "cell_type": "markdown",
      "metadata": {
        "id": "hy4xs5F88s4y"
      },
      "source": [
        "## Importação de Bibliotecas\n"
      ]
    },
    {
      "cell_type": "code",
      "metadata": {
        "id": "hWafj-52rxED"
      },
      "source": [
        "# Importa as bibliotecas que usaremos\n",
        "\n",
        "import torch\n",
        "import torch.nn as nn\n",
        "import torch.functional as F\n",
        "import torch.optim as optim\n",
        "\n",
        "import numpy as np\n",
        "from matplotlib import pyplot as plt\n",
        "\n",
        "# Ajusta os parâmetro de precisão para\n",
        "# as variáveis que serão impressas na tela\n",
        "\n",
        "torch.set_printoptions(precision=2, sci_mode=False)\n",
        "np.set_printoptions(precision=2)"
      ],
      "execution_count": null,
      "outputs": []
    },
    {
      "cell_type": "markdown",
      "metadata": {
        "id": "X4O4zi5lf04t"
      },
      "source": [
        "## Leitura dos Dados\n",
        "\n",
        "Abaixo definimos as funções auxiliares para leitura do arquivo de imagens"
      ]
    },
    {
      "cell_type": "code",
      "metadata": {
        "id": "3-GlQ5rjbPwg"
      },
      "source": [
        "from struct import unpack\n",
        "\n",
        "def read_imgs(img_filename):\n",
        "  ''' Esta função lê o arquivo de imagens\n",
        "      da base de dados MNIST\n",
        "  '''\n",
        "\n",
        "  # Abre o arquivo\n",
        "  img_file = open(img_filename,'rb')\n",
        "\n",
        "  # Lê o cabeçalho do arquivo\n",
        "  magic = unpack('>i', img_file.read(4))[0]\n",
        "  total = unpack('>i', img_file.read(4))[0]\n",
        "  height = unpack('>i', img_file.read(4))[0]\n",
        "  width = unpack('>i', img_file.read(4))[0]\n",
        "\n",
        "  # Verifica se o arquivo passa no teste\n",
        "  # básico (este número deve ser sempre 2051)\n",
        "  if magic != 2051:\n",
        "    print('Erro, este arquivo não parece ser um arquivo de imagens MNIST')\n",
        "\n",
        "  # Aqui criamos a array do NumPy que armazenará\n",
        "  # as imagens\n",
        "  imgs = np.zeros((total,height,width), dtype=float)\n",
        "\n",
        "  # Nesse laço vamos lendo cada pixel e preenchendo\n",
        "  # no array\n",
        "  for k in range(total): # Cada amostra k\n",
        "    for i in range(height): # Cada linha i\n",
        "      for j in range(width): # Cada coluna j\n",
        "        imgs[k,i,j] = ord(img_file.read(1)) # Lemos 1 byte\n",
        "  \n",
        "  # Retornamos o array preenchido\n",
        "  # e já normalizado para valores\n",
        "  # entre zero e um\n",
        "  return imgs / 255.0"
      ],
      "execution_count": null,
      "outputs": []
    },
    {
      "cell_type": "markdown",
      "metadata": {
        "id": "ex6SljeojCtM"
      },
      "source": [
        "De forma semelhante ao realizado acima, aqui abaixo definimos as funções auxiliares para leitura do arquivo de rótulos."
      ]
    },
    {
      "cell_type": "code",
      "metadata": {
        "id": "gpK1CJ0mgAzn"
      },
      "source": [
        "def read_labels(labels_filename):\n",
        "  ''' Esta função lê o arquivo de rótulos\n",
        "      da base de dados MNIST\n",
        "  '''\n",
        "\n",
        "  # Abre o arquivo\n",
        "  labels_file = open(labels_filename,'rb')\n",
        "\n",
        "  # Lê o cabeçalho do arquivo\n",
        "  magic = unpack('>i', labels_file.read(4))[0]\n",
        "  total = unpack('>i', labels_file.read(4))[0]\n",
        "\n",
        "  # Verifica se o arquivo passa no teste\n",
        "  # básico (este número deve ser sempre 2051)\n",
        "  if magic != 2049:\n",
        "    print('Erro, este arquivo não parece ser um arquivo de imagens MNIST')\n",
        "\n",
        "  # Aqui criamos a array do NumPy que armazenará\n",
        "  # as imagens\n",
        "  labels = np.zeros((total), dtype=int)\n",
        "\n",
        "  # Nesse laço vamos lendo cada label e preenchendo\n",
        "  # no array\n",
        "  for k in range(total): # Cada amostra k\n",
        "    labels[k] = ord(labels_file.read(1)) # Lemos 1 byte\n",
        "  \n",
        "  # Retornamos o array preenchido\n",
        "  return labels"
      ],
      "execution_count": null,
      "outputs": []
    },
    {
      "cell_type": "markdown",
      "metadata": {
        "id": "PgwpORvVjHBf"
      },
      "source": [
        "Nas linhas abaixo chamamos as função de leitura para carregar as imagens e os respectivos rótulos"
      ]
    },
    {
      "cell_type": "code",
      "metadata": {
        "id": "JEEgfzZli9yF"
      },
      "source": [
        "# Dados de treinamento\n",
        "\n",
        "Xt = read_imgs('train-images-idx3-ubyte')\n",
        "Yt = read_labels('train-labels-idx1-ubyte')\n",
        "\n",
        "# Dados de validação\n",
        "Xv = read_imgs('t10k-images-idx3-ubyte')\n",
        "Yv = read_labels('t10k-labels-idx1-ubyte')"
      ],
      "execution_count": null,
      "outputs": []
    },
    {
      "cell_type": "markdown",
      "metadata": {
        "id": "4RC0FDZ-iSPc"
      },
      "source": [
        "## Embaralhamento das Amostras"
      ]
    },
    {
      "cell_type": "code",
      "metadata": {
        "id": "E1TxGaInUd-h"
      },
      "source": [
        "def shuffle_pair(x, y):\n",
        "  idxs = list(range(len(y)))\n",
        "  np.random.shuffle(idxs)\n",
        "  return x[idxs], y[idxs]"
      ],
      "execution_count": null,
      "outputs": []
    },
    {
      "cell_type": "code",
      "metadata": {
        "id": "-ri4BPntUvNO"
      },
      "source": [
        "Xt, Yt = shuffle_pair(Xt, Yt)\n",
        "Xv, Yv = shuffle_pair(Xv, Yv)"
      ],
      "execution_count": null,
      "outputs": []
    },
    {
      "cell_type": "markdown",
      "metadata": {
        "id": "CmBuEwouidRI"
      },
      "source": [
        "## Conversão para PyTorch"
      ]
    },
    {
      "cell_type": "code",
      "metadata": {
        "id": "VGVcLVR1FWwH"
      },
      "source": [
        "Xt = torch.tensor(Xt)\n",
        "Yt = torch.tensor(Yt, dtype=torch.long)\n",
        "Xv = torch.tensor(Xv)\n",
        "Yv = torch.tensor(Yv, dtype=torch.long)"
      ],
      "execution_count": null,
      "outputs": []
    },
    {
      "cell_type": "code",
      "metadata": {
        "id": "xSexj4xpGkiW"
      },
      "source": [
        "Xt = Xt.unsqueeze(1)\n",
        "Xv = Xv.unsqueeze(1)"
      ],
      "execution_count": null,
      "outputs": []
    },
    {
      "cell_type": "markdown",
      "metadata": {
        "id": "4aWZ_bmPp8mV"
      },
      "source": [
        "# Rede Neural\n",
        "\n",
        "O código abaixo definimos uma rede neural convolucional."
      ]
    },
    {
      "cell_type": "code",
      "metadata": {
        "id": "KjRI2nrnxe6G"
      },
      "source": [
        "class ConvNet(nn.Module):\n",
        "  def __init__(self):\n",
        "    super(ConvNet, self).__init__()\n",
        "    self.conv1 = nn.Conv2d(1, 5, kernel_size=5)  #  1x28x28 => 5x24x24\n",
        "    self.pool1 = nn.MaxPool2d(2, 2)\n",
        "    self.conv2 = nn.Conv2d(5, 8, kernel_size=3)  #  5x12x12 => 10x10x10\n",
        "    self.drp1 = nn.Dropout2d(0.25)               #   8x5x5 => \n",
        "    self.pool2 = nn.MaxPool2d(2, 2)\n",
        "    self.lin1 = nn.Linear(200, 10)               #     200 => 10\n",
        "    \n",
        "  def forward(self, x):\n",
        "    x = self.conv1(x)\n",
        "    x = torch.relu(x)\n",
        "    x = self.pool1(x)\n",
        "    x = self.conv2(x)\n",
        "    x = self.drp1(x)\n",
        "    x = torch.relu(x)\n",
        "    x = self.pool2(x)\n",
        "    x = x.view(-1, 200)\n",
        "    x = self.lin1(x)\n",
        "    return x\n"
      ],
      "execution_count": null,
      "outputs": []
    },
    {
      "cell_type": "code",
      "metadata": {
        "id": "BkJRqpcnX_4t",
        "colab": {
          "base_uri": "https://localhost:8080/"
        },
        "outputId": "f83e4391-3036-4afd-fae3-e3092fb5dfe4"
      },
      "source": [
        "cnn = ConvNet()\n",
        "print(cnn)"
      ],
      "execution_count": null,
      "outputs": [
        {
          "output_type": "stream",
          "text": [
            "ConvNet(\n",
            "  (conv1): Conv2d(1, 5, kernel_size=(5, 5), stride=(1, 1))\n",
            "  (conv2): Conv2d(5, 8, kernel_size=(3, 3), stride=(1, 1))\n",
            "  (pool1): MaxPool2d(kernel_size=2, stride=2, padding=0, dilation=1, ceil_mode=False)\n",
            "  (drp1): Dropout2d(p=0.25, inplace=False)\n",
            "  (pool2): MaxPool2d(kernel_size=2, stride=2, padding=0, dilation=1, ceil_mode=False)\n",
            "  (lin1): Linear(in_features=200, out_features=10, bias=True)\n",
            ")\n"
          ],
          "name": "stdout"
        }
      ]
    },
    {
      "cell_type": "markdown",
      "metadata": {
        "id": "4i1e9vRBpLfK"
      },
      "source": [
        "# Treinamento\n",
        "\n",
        "Esta rede neural será treinada em $1001$ épocas, e isso levará em torno de $20$ minutos (aproximadamente $2$ minutos por época)"
      ]
    },
    {
      "cell_type": "code",
      "metadata": {
        "id": "T0ya2ECu8O8b"
      },
      "source": [
        "# Aqui criamos o otimizador e a função\n",
        "# de perda\n",
        "\n",
        "opt = optim.Adam(cnn.parameters(), lr=0.0001)\n",
        "loss = nn.CrossEntropyLoss()"
      ],
      "execution_count": null,
      "outputs": []
    },
    {
      "cell_type": "code",
      "metadata": {
        "id": "sBj_p1Q98SIY"
      },
      "source": [
        "# Movemos tudo para a GPU\n",
        "# (essa parte é opcional)\n",
        "\n",
        "gpu = torch.device(\"cuda:0\")\n",
        "cnn = cnn.to(gpu)\n",
        "Xt = Xt.to(gpu, dtype=torch.float)\n",
        "Yt = Yt.to(gpu, dtype=torch.long)\n",
        "Xv = Xv.to(gpu, dtype=torch.float)\n",
        "Yv = Yv.to(gpu, dtype=torch.long)"
      ],
      "execution_count": null,
      "outputs": []
    },
    {
      "cell_type": "code",
      "metadata": {
        "id": "iKL6ESmDMJNJ"
      },
      "source": [
        "# Essa função serve para verificarmos\n",
        "# a acurácia dos resultados, seja\n",
        "# nos pares de treinamento, seja\n",
        "# nos pares de validação.\n",
        "\n",
        "def evaluate(x, y_hat):\n",
        "  y = cnn(x).argmax(dim=1)\n",
        "  return 100*float((y == y_hat).sum()) / len(y)"
      ],
      "execution_count": null,
      "outputs": []
    },
    {
      "cell_type": "code",
      "metadata": {
        "id": "VU6OtvVY08_R"
      },
      "source": [
        "# Treinamento da rede neural\n",
        "# Treinamento por 10 épocas\n",
        "# usando lotes de 16 amostras\n",
        "# (pode repetir essa célula várias\n",
        "#  vezes para tentar aumentar a\n",
        "#  acurácia)\n",
        "\n",
        "for j in range(10):\n",
        "  for i in range(0,len(Yt),16):\n",
        "    x = Xt[i:i+16,:,:,:]\n",
        "    y_hat = Yt[i:i+16]\n",
        "    opt.zero_grad()\n",
        "    y = cnn(x)\n",
        "    e = loss(y, y_hat)\n",
        "    e.backward()\n",
        "    opt.step()\n",
        "  print(float(e), evaluate(Xt, Yt))"
      ],
      "execution_count": null,
      "outputs": []
    },
    {
      "cell_type": "markdown",
      "metadata": {
        "id": "cs936nxvKK2F"
      },
      "source": [
        "# Avaliação dos Resultados"
      ]
    },
    {
      "cell_type": "code",
      "metadata": {
        "colab": {
          "base_uri": "https://localhost:8080/"
        },
        "id": "2GTEysvGYaPw",
        "outputId": "a04c0f24-ef02-4d64-9ce2-de509efd4809"
      },
      "source": [
        "# Essa linha de código coloca a\n",
        "# rede neural no modo de avaliação\n",
        "# (tira do modo de treinamento).\n",
        "# Dessa forma o dropout é desativado\n",
        "\n",
        "cnn.eval()"
      ],
      "execution_count": null,
      "outputs": [
        {
          "output_type": "execute_result",
          "data": {
            "text/plain": [
              "ConvNet(\n",
              "  (conv1): Conv2d(1, 5, kernel_size=(5, 5), stride=(1, 1))\n",
              "  (conv2): Conv2d(5, 8, kernel_size=(3, 3), stride=(1, 1))\n",
              "  (pool1): MaxPool2d(kernel_size=2, stride=2, padding=0, dilation=1, ceil_mode=False)\n",
              "  (drp1): Dropout2d(p=0.25, inplace=False)\n",
              "  (pool2): MaxPool2d(kernel_size=2, stride=2, padding=0, dilation=1, ceil_mode=False)\n",
              "  (lin1): Linear(in_features=200, out_features=10, bias=True)\n",
              ")"
            ]
          },
          "metadata": {
            "tags": []
          },
          "execution_count": 47
        }
      ]
    },
    {
      "cell_type": "markdown",
      "metadata": {
        "id": "f6ev_9PPhSui"
      },
      "source": [
        "Abaixo mostramos, finalmente, a acurácia nos dados de validação. O valor pode até superar a acurácia do treinamento, já que aqui dropout está desabilitado."
      ]
    },
    {
      "cell_type": "code",
      "metadata": {
        "colab": {
          "base_uri": "https://localhost:8080/"
        },
        "id": "JkTmpVquRSN3",
        "outputId": "ff0e2ec5-a534-462f-cb86-80039f0fcaac"
      },
      "source": [
        "print('Acurácia nos dados de validação:', evaluate(Xv, Yv))"
      ],
      "execution_count": null,
      "outputs": [
        {
          "output_type": "stream",
          "text": [
            "Acurácia nos dados de validação: 97.58\n"
          ],
          "name": "stdout"
        }
      ]
    },
    {
      "cell_type": "markdown",
      "metadata": {
        "id": "Ay_wjHQBhd_c"
      },
      "source": [
        "No código abaixo mostramos alguns exemplos de saída calculada pela rede neural e respectiva saída desejada e imagem correspondente."
      ]
    },
    {
      "cell_type": "code",
      "metadata": {
        "colab": {
          "base_uri": "https://localhost:8080/",
          "height": 1000
        },
        "id": "M16NciUkfFv1",
        "outputId": "4e686191-520b-411c-c804-a181b6cbddce"
      },
      "source": [
        "for _ in range(5):\n",
        "  idx = np.random.randint(0, len(Yv))\n",
        "  x = Xv[idx,0,:,:].cpu()\n",
        "  y = int(cnn(Xv[idx,:,:,:].unsqueeze(1)).argmax(dim=1))\n",
        "  print('y =', y, 'y_hat =', int(Yv[idx]))\n",
        "  plt.imshow(x, cmap='gray')\n",
        "  plt.show()"
      ],
      "execution_count": null,
      "outputs": [
        {
          "output_type": "stream",
          "text": [
            "y = 1 y_hat = 1\n"
          ],
          "name": "stdout"
        },
        {
          "output_type": "display_data",
          "data": {
            "image/png": "[encoded data removed]",
            "text/plain": [
              "<Figure size 432x288 with 1 Axes>"
            ]
          },
          "metadata": {
            "tags": [],
            "needs_background": "light"
          }
        },
        {
          "output_type": "stream",
          "text": [
            "y = 7 y_hat = 7\n"
          ],
          "name": "stdout"
        },
        {
          "output_type": "display_data",
          "data": {
            "image/png": "[encoded data removed]",
            "text/plain": [
              "<Figure size 432x288 with 1 Axes>"
            ]
          },
          "metadata": {
            "tags": [],
            "needs_background": "light"
          }
        },
        {
          "output_type": "stream",
          "text": [
            "y = 7 y_hat = 4\n"
          ],
          "name": "stdout"
        },
        {
          "output_type": "display_data",
          "data": {
            "image/png": "[encoded data removed]",
            "text/plain": [
              "<Figure size 432x288 with 1 Axes>"
            ]
          },
          "metadata": {
            "tags": [],
            "needs_background": "light"
          }
        },
        {
          "output_type": "stream",
          "text": [
            "y = 8 y_hat = 8\n"
          ],
          "name": "stdout"
        },
        {
          "output_type": "display_data",
          "data": {
            "image/png": "[encoded data removed]",
            "text/plain": [
              "<Figure size 432x288 with 1 Axes>"
            ]
          },
          "metadata": {
            "tags": [],
            "needs_background": "light"
          }
        },
        {
          "output_type": "stream",
          "text": [
            "y = 2 y_hat = 2\n"
          ],
          "name": "stdout"
        },
        {
          "output_type": "display_data",
          "data": {
            "image/png": "[encoded data removed]",
            "text/plain": [
              "<Figure size 432x288 with 1 Axes>"
            ]
          },
          "metadata": {
            "tags": [],
            "needs_background": "light"
          }
        }
      ]
    },
    {
      "cell_type": "markdown",
      "metadata": {
        "id": "TrUydRLphpXY"
      },
      "source": [
        "A linha de código abaixo coloca a rede neural novamente em modo treinamento."
      ]
    },
    {
      "cell_type": "code",
      "metadata": {
        "colab": {
          "base_uri": "https://localhost:8080/"
        },
        "id": "FqlKyTe8Y8AB",
        "outputId": "7ca3ef4f-5265-4326-d8c7-606e9caec581"
      },
      "source": [
        "cnn.train()"
      ],
      "execution_count": null,
      "outputs": [
        {
          "output_type": "execute_result",
          "data": {
            "text/plain": [
              "ConvNet(\n",
              "  (conv1): Conv2d(1, 5, kernel_size=(5, 5), stride=(1, 1))\n",
              "  (conv2): Conv2d(5, 8, kernel_size=(3, 3), stride=(1, 1))\n",
              "  (pool1): MaxPool2d(kernel_size=2, stride=2, padding=0, dilation=1, ceil_mode=False)\n",
              "  (drp1): Dropout2d(p=0.25, inplace=False)\n",
              "  (pool2): MaxPool2d(kernel_size=2, stride=2, padding=0, dilation=1, ceil_mode=False)\n",
              "  (lin1): Linear(in_features=200, out_features=10, bias=True)\n",
              ")"
            ]
          },
          "metadata": {
            "tags": []
          },
          "execution_count": 50
        }
      ]
    }
  ]
}