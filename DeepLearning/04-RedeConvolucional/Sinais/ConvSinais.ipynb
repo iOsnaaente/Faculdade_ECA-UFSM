{
  "nbformat": 4,
  "nbformat_minor": 0,
  "metadata": {
    "colab": {
      "name": "E06_DL ConvNet Sinais PyTorch.ipynb",
      "provenance": [],
      "collapsed_sections": []
    },
    "kernelspec": {
      "name": "python3",
      "display_name": "Python 3"
    },
    "accelerator": "GPU"
  },
  "cells": [
    {
      "cell_type": "markdown",
      "metadata": {
        "id": "atpspYF1fV9Q"
      },
      "source": [
        "**ENTREGA DO TRABALHO E06 - DEEP LEARNING**\r\n",
        "\r\n",
        "**NOME:** Bruno Gabriel Flores Sampaio\r\n",
        "**MATRICULA:** 201720094"
      ]
    },
    {
      "cell_type": "code",
      "metadata": {
        "id": "4Oj0ii7pdPBp"
      },
      "source": [
        "#@title\n",
        "%%capture\n",
        "!pip install git+https://github.com/grading/gradememaybe.git\n",
        "!gdown --id '1edIyTQOkush3UHuidrX7zFWiQS9oLobW'\n",
        "!gdown --id '18RoYdRXTnpPPkGBkK9DhsKeY8rcvbdiz'\n",
        "!gdown --id '1UOA4_DMFNglsQ_1EezA--XJosCiolOLK'\n",
        "!gdown --id '1EwribkNTDFLzQxDPuhYnUL4XDxsiyWHA'\n",
        "from gofer import ok"
      ],
      "execution_count": null,
      "outputs": []
    },
    {
      "cell_type": "markdown",
      "metadata": {
        "id": "xObkpT73UmpQ"
      },
      "source": [
        "# Parte 1: Leitura e Preparação dos Dados"
      ]
    },
    {
      "cell_type": "markdown",
      "metadata": {
        "id": "fq0HQJWntn5x"
      },
      "source": [
        "## Importação de Bibliotecas\n",
        "\n",
        "Na célula de código abaixo importamos todas as principais bibliotecas (módulos do Python) que usaremos em nosso exercício."
      ]
    },
    {
      "cell_type": "code",
      "metadata": {
        "id": "aDwgSM-am8sy"
      },
      "source": [
        "import numpy as np\n",
        "\n",
        "import torch\n",
        "import torch.nn as nn\n",
        "import torch.functional as F\n",
        "import torch.optim as optim\n",
        "\n",
        "from matplotlib import pyplot as plt"
      ],
      "execution_count": null,
      "outputs": []
    },
    {
      "cell_type": "markdown",
      "metadata": {
        "id": "o_FQr-20U_yP"
      },
      "source": [
        "## Leitura dos Dados\n",
        "\n",
        "O código abaixo faz a leitura das imagens de entrada e suas correspondentes categorias de saída desejada."
      ]
    },
    {
      "cell_type": "code",
      "metadata": {
        "id": "R3b0eV2nUoxD",
        "colab": {
          "base_uri": "https://localhost:8080/"
        },
        "outputId": "888f58a8-c3fe-4af9-b962-0cac669f6639"
      },
      "source": [
        "# Baixa as entradas X.npy\n",
        "!gdown https://drive.google.com/uc?id=1oSRay8phFA91RJoGH0tMmj86LBovKj73\n",
        "\n",
        "# Baixa as saídas desejadas Y.npy\n",
        "!gdown https://drive.google.com/uc?id=1_BQLcsgcYYsubtv4M80BVm4BEknrTOr7"
      ],
      "execution_count": null,
      "outputs": [
        {
          "output_type": "stream",
          "text": [
            "Downloading...\n",
            "From: https://drive.google.com/uc?id=1oSRay8phFA91RJoGH0tMmj86LBovKj73\n",
            "To: /content/X.npy\n",
            "33.8MB [00:00, 108MB/s] \n",
            "Downloading...\n",
            "From: https://drive.google.com/uc?id=1_BQLcsgcYYsubtv4M80BVm4BEknrTOr7\n",
            "To: /content/Y.npy\n",
            "100% 165k/165k [00:00<00:00, 50.1MB/s]\n"
          ],
          "name": "stdout"
        }
      ]
    },
    {
      "cell_type": "code",
      "metadata": {
        "id": "pKNC3UyVU-dl"
      },
      "source": [
        "# Leitura dos dados\n",
        "X = np.load('X.npy')\n",
        "Y = np.load('Y.npy')\n",
        "\n",
        "# Reordena as categorias na ordem correta\n",
        "# (por motivo que desconheço, os dados\n",
        "#  originais estavam com as classes fora\n",
        "#  de ordem -- consistentes e organizadas,\n",
        "#  mas fora de ordem)\n",
        "cats = [9,0,7,6,1,8,4,3,2,5]\n",
        "Y[:,cats] = Y[:,range(10)]"
      ],
      "execution_count": null,
      "outputs": []
    },
    {
      "cell_type": "markdown",
      "metadata": {
        "id": "__giw4Fut2Lx"
      },
      "source": [
        "## Embaralhamento e Separação dos Dados\n",
        "\n",
        "Em seguida embaralhamos as amostras, mantendo os pares correspondentes entre entradas e suas respectivas saídas desejadas, e depois separamos uma parte das amostras para treinamento e outra parte para validação."
      ]
    },
    {
      "cell_type": "code",
      "metadata": {
        "id": "IOTIAtDwnGR3"
      },
      "source": [
        "def split_and_shuffle(X, Y, perc = 0.1):\n",
        "  ''' Esta função embaralha os pares de entradas\n",
        "      e saídas desejadas, e separa os dados de\n",
        "      treinamento e validação\n",
        "  '''\n",
        "  # Total de amostras\n",
        "  tot = len(X)\n",
        "  # Emabaralhamento dos índices\n",
        "  indexes = np.arange(tot)\n",
        "  np.random.shuffle(indexes)\n",
        "  # Calculo da quantidade de amostras de\n",
        "  # treinamento\n",
        "  n = int((1 - perc)*tot)\n",
        "  Xt = X[indexes[:n]]\n",
        "  Yt = Y[indexes[:n]]\n",
        "  Xv = X[indexes[n:]]\n",
        "  Yv = Y[indexes[n:]]\n",
        "  return Xt, Yt, Xv, Yv"
      ],
      "execution_count": null,
      "outputs": []
    },
    {
      "cell_type": "code",
      "metadata": {
        "id": "viq4uiewoSue"
      },
      "source": [
        "# Aqui efetivamente realizamos a separação\n",
        "# e embaralhamento\n",
        "\n",
        "Xt, Yt, Xv, Yv = split_and_shuffle(X, Y)"
      ],
      "execution_count": null,
      "outputs": []
    },
    {
      "cell_type": "code",
      "metadata": {
        "id": "EPbNH8z4okcr"
      },
      "source": [
        "# Transforma os arrays do NumPy em\n",
        "# tensores do PyTorch\n",
        "\n",
        "Xt = torch.from_numpy(Xt)\n",
        "Yt = torch.from_numpy(Yt)\n",
        "Xv = torch.from_numpy(Xv)\n",
        "Yv = torch.from_numpy(Yv)"
      ],
      "execution_count": null,
      "outputs": []
    },
    {
      "cell_type": "code",
      "metadata": {
        "id": "q6wgm50wmuUu"
      },
      "source": [
        "# Adiciona dimensão dos canais\n",
        "# (único canal, imagem monocromática)\n",
        "\n",
        "Xt = Xt.unsqueeze(1)\n",
        "Xv = Xv.unsqueeze(1)"
      ],
      "execution_count": null,
      "outputs": []
    },
    {
      "cell_type": "code",
      "metadata": {
        "id": "V7okzAX0pctg",
        "colab": {
          "base_uri": "https://localhost:8080/"
        },
        "outputId": "b31cc491-3480-4401-b6ba-131715ac1567"
      },
      "source": [
        "print('Dados de treinamento:')\n",
        "print('Xt', Xt.size(), 'Yt', Yt.size())\n",
        "print()\n",
        "print('Dados de validação:')\n",
        "print('Xv', Xv.size(), 'Yv', Yv.size())"
      ],
      "execution_count": null,
      "outputs": [
        {
          "output_type": "stream",
          "text": [
            "Dados de treinamento:\n",
            "Xt torch.Size([1855, 1, 64, 64]) Yt torch.Size([1855, 10])\n",
            "\n",
            "Dados de validação:\n",
            "Xv torch.Size([207, 1, 64, 64]) Yv torch.Size([207, 10])\n"
          ],
          "name": "stdout"
        }
      ]
    },
    {
      "cell_type": "markdown",
      "metadata": {
        "id": "QCNtoRNRuIu8"
      },
      "source": [
        "## Inspeção dos Dados\n",
        "\n",
        "Agora mostramos algumas amostras dos dados para verificar se a preparação feita até aqui continua coerente."
      ]
    },
    {
      "cell_type": "code",
      "metadata": {
        "id": "Hk9oXfOJssnB"
      },
      "source": [
        "def show_sample(X, Y, n=3):\n",
        "  ''' Essa função mostra algumas\n",
        "      amostras aleatórias\n",
        "  '''\n",
        "  for i in range(n):\n",
        "    k = np.random.randint(0,len(X))\n",
        "    print('Mostrando', int(torch.argmax(Y[k,:])))\n",
        "    plt.imshow(X[k,0,:,:], cmap='gray')\n",
        "    plt.show()"
      ],
      "execution_count": null,
      "outputs": []
    },
    {
      "cell_type": "code",
      "metadata": {
        "id": "JrBpLaeKtJb3",
        "colab": {
          "base_uri": "https://localhost:8080/",
          "height": 821
        },
        "outputId": "d47be171-5ef8-4596-b70a-558258cc0e87"
      },
      "source": [
        "show_sample(Xt, Yt)"
      ],
      "execution_count": null,
      "outputs": [
        {
          "output_type": "stream",
          "text": [
            "Mostrando 6\n"
          ],
          "name": "stdout"
        },
        {
          "output_type": "display_data",
          "data": {
            "image/png": "[encoded data removed]",
            "text/plain": [
              "<Figure size 432x288 with 1 Axes>"
            ]
          },
          "metadata": {
            "tags": [],
            "needs_background": "light"
          }
        },
        {
          "output_type": "stream",
          "text": [
            "Mostrando 1\n"
          ],
          "name": "stdout"
        },
        {
          "output_type": "display_data",
          "data": {
            "image/png": "[encoded data removed]",
            "text/plain": [
              "<Figure size 432x288 with 1 Axes>"
            ]
          },
          "metadata": {
            "tags": [],
            "needs_background": "light"
          }
        },
        {
          "output_type": "stream",
          "text": [
            "Mostrando 5\n"
          ],
          "name": "stdout"
        },
        {
          "output_type": "display_data",
          "data": {
            "image/png": "[encoded data removed]",
            "text/plain": [
              "<Figure size 432x288 with 1 Axes>"
            ]
          },
          "metadata": {
            "tags": [],
            "needs_background": "light"
          }
        }
      ]
    },
    {
      "cell_type": "markdown",
      "metadata": {
        "id": "gNf4VvWVx7Sx"
      },
      "source": [
        "# Parte 2: Projeto da Rede Neural\n",
        "\n",
        "Para esta primeira parte do exercício você irá implementar uma rede neural convolucional conforme a figura abaixo. Primeiro examine com calma a figura, tentando entender cada etapa da rede neural. Ela é muito semelhante à rede neural que implementamos em aula, disponível [aqui](https://colab.research.google.com/drive/1bT8jyS0qyScFLi_mA6c1Fbv9uixrNRO3?usp=sharing).\n",
        "\n",
        "<center>\n",
        "<img src=\"https://drive.google.com/uc?id=14lWGdvUGpK_CiVH9M6E-LxGx57pV29xk\" width=\"1000\"/>\n",
        "</center>\n",
        "\n",
        "Considere a fórmula abaixo, onde $w_i$ representa a largura da imagem de entrada, $p$ o tamanho do padding (se não houver padding, $p$=0), $k$ a largura do kernel, $s$ o tamanho do passo (stride). Essa fórmula calcula a largura $w_o$ do feature map de saída após a convolução. A mesma fórmula pode ser usada para calcular a altura também.\n",
        "\n",
        "$w_o = \\frac{w_i + 2p - k}{s}+1$\n",
        "\n",
        "Na rede neural da figura acima, as camadas são:\n",
        "\n",
        "1.   `conv1`: Camada convolucional com kernel 6x6, 5 canais de saída, sem padding, stride 2 e ativação ReLU.\n",
        "2.   `pool1`: Camada _max-pooling_ 2x2, com stride 2.\n",
        "3.   `conv2`: Camada convolucional com kernel 3x3, 8 canais de saída, sem padding, stride 1 e ativação ReLU.\n",
        "4.   `drp1`: Dropout de 25%\n",
        "5.   `pool2`: Camada _max-pooling_ 2x2, com stride 2.\n",
        "6.   `lin1`: Camada feedforward que recebe os dados serializados e gera as saídas. A função de ativação final é _softmax_, mas ela é implementada no cálculo da função de custo, então não precisa ser considerada aqui.\n",
        "\n",
        "Com base nas informações e na figura acima, e usando a fórmula cima, considerando que a entrada é de 1 canal, largura 64 e altura 64 (1x64x64), defina os valores de `N1`, `N2`, `N3`, `N4`, `N5`, `N6`, `N7`, `N8`, `N9`, `N10`, `N11`, `N12` conforme apontados na figura.\n",
        "\n",
        "Preencha os valores no código abaixo."
      ]
    },
    {
      "cell_type": "code",
      "metadata": {
        "id": "Ur99Jw2M1Dey"
      },
      "source": [
        "# Para cada uma das variáveis abaixo\n",
        "# substitua None pelo valor inteiro\n",
        "# correto.\n",
        "\n",
        "N1 = 5        # Valor do número de canais \n",
        "N2 = 30       # Linhas e colunas wo = (64 + 2.0 + 6)/2 + 1\n",
        "N3 = 4500     # Canais*Linhas*Colunas \n",
        "\n",
        "N4 = 5        # Canais não mudam com Pool\n",
        "N5 = 15       # 2x2 Stride 2 reduz pela metade \n",
        "N6 = 1125     # Canais*Linhas*Colunas \n",
        "\n",
        "N7 = 8        # Número de canais da saída da conv2 \n",
        "N8 = 13       # Colunas e linhas\n",
        "N9 = 1352     # Canais*Colunas*Linhas\n",
        "\n",
        "N10 = 8       # Canal não muda com Pool\n",
        "N11 = 6       # Metade para cima de 13\n",
        "\n",
        "N12 = 288     # Saídas Coluna*Linhas*Canais\n",
        "\n",
        "N13 = 10      # Saída de dados sum(0 -> 9) = 10 "
      ],
      "execution_count": null,
      "outputs": []
    },
    {
      "cell_type": "markdown",
      "metadata": {
        "id": "qt5wCY3yVOAy"
      },
      "source": [
        "## Autovaliação do código até aqui"
      ]
    },
    {
      "cell_type": "code",
      "metadata": {
        "id": "ZIR90_OEaB2b",
        "colab": {
          "base_uri": "https://localhost:8080/",
          "height": 46
        },
        "outputId": "5f338d68-abf0-414c-f221-4ad49cea0c99"
      },
      "source": [
        "ok.check('avalia01.py')"
      ],
      "execution_count": null,
      "outputs": [
        {
          "output_type": "execute_result",
          "data": {
            "text/html": [
              "\n",
              "    \n",
              "    \n",
              "        <p>All tests passed!</p>\n",
              "    \n",
              "    "
            ],
            "text/plain": [
              "<gofer.ok.OKTestsResult at 0x7f962e172198>"
            ]
          },
          "metadata": {
            "tags": []
          },
          "execution_count": 13
        }
      ]
    },
    {
      "cell_type": "markdown",
      "metadata": {
        "id": "RLGrkzEIp6hk"
      },
      "source": [
        "# Parte 3: Código da Rede Neural\n",
        "\n",
        "Crie abaixo uma classe de nome `ConvNet`. Essa classe deve derivar da classe `nn.Module`. Se você estiver com dúvidas sobre como começar, revise o código desenvolvido em aula [aqui](https://colab.research.google.com/drive/1bT8jyS0qyScFLi_mA6c1Fbv9uixrNRO3?usp=sharing). Nesta classe, você vai definir uma rede convolucional com as seguintes camadas:\n",
        "\n",
        "\n",
        "\n",
        "1.   A primeira camada você vai chamar de `self.conv1`. Essa deve receber a imagem de entrada e aplicar uma convolução com um kernel de tamanho 6x6, com passo 2 (stride=2). A saída deve conter 5 canais.\n",
        "2.   A segunda camada deve ser uma camada de _max-pooling_ numa janela 2x2, com passo 2. Essa camada você vai chamar de `self.pool1`.\n",
        "3.   A terceira camada você vai chamar de `self.conv2`. Ela deve ser uma convolução com um kernel de tamanho 3x3, gerando 8 canais de saída.\n",
        "4.   Em seguida voce tomará a saída da terceira camada e aplicará _dropout_ com p=25%. Essa camada de _dropout_ você vai chamar de `self.drp1`.\n",
        "5.   Após o _dropout_, adicione mais uma camada de _max-pooling_ idêntica à usada na segunda camada, com janela 2x2 e passo 2. Essa camada você vai chamar de `self.pool2`\n",
        "6.   Agora os dados serão serializados. Adicione uma camada _feed-forward_ de nome `self.lin1` que receberá os dados serializados e gerará as saídas.\n",
        "\n"
      ]
    },
    {
      "cell_type": "code",
      "metadata": {
        "id": "pgFmVioRpuBo"
      },
      "source": [
        "# Escreva aqui o código da classe que\n",
        "# implementará sua rede neural\n",
        "\n",
        "class ConvNet(nn.Module):\n",
        "  \n",
        "  def __init__(self):\n",
        "    super(ConvNet, self).__init__()\n",
        "    self.conv1 = nn.Conv2d(1, 5, 6, 2)  # Canais entrada, saída, kernel, stride\n",
        "    self.pool1 = nn.MaxPool2d(2,2)      # Kernel, stride\n",
        "    self.conv2 = nn.Conv2d(5, 8, 3, 1)  # Canais entrada, saída, kernel, stride\n",
        "    self.drp1  = nn.Dropout2d(0.25)     # Percentagem de morte\n",
        "    self.pool2 = nn.MaxPool2d(2,2)      # Kernel, stride \n",
        "    self.lin1  = nn.Linear(288, 10)     # Colunas*Linhas*Canais, saída 10 digitos \n",
        "\n",
        "  def forward(self, x):\n",
        "    x = self.conv1(x)\n",
        "    x = torch.relu(x)\n",
        "    x = self.pool1(x)\n",
        "    x = self.conv2(x)\n",
        "    x = self.drp1(x)\n",
        "    x = torch.relu(x)\n",
        "    x = self.pool2(x)\n",
        "    x = x.view(-1, 288)\n",
        "    x = self.lin1(x)\n",
        "    return x"
      ],
      "execution_count": null,
      "outputs": []
    },
    {
      "cell_type": "markdown",
      "metadata": {
        "id": "ohztNAsrol5c"
      },
      "source": [
        "A célula de código abaixo vai criar um objeto da classe recém criada por você, e irá imprimir um sumário das camadas. Verifique se constam as camadas `conv1`, `pool1`, `conv2`, `drp1`, `pool2` e `lin1`, com os respectivos parâmetros pedidos no enunciado. Lembre que `conv1` e que as camadas de _max-pooling_ `pool1` e `pool2` devem possuir stride 2."
      ]
    },
    {
      "cell_type": "code",
      "metadata": {
        "id": "sHa3rxtxl__l",
        "colab": {
          "base_uri": "https://localhost:8080/"
        },
        "outputId": "2c3878e8-ffeb-47f9-a656-f3b33d7e9d32"
      },
      "source": [
        "cnn = ConvNet()\n",
        "print(cnn)"
      ],
      "execution_count": null,
      "outputs": [
        {
          "output_type": "stream",
          "text": [
            "ConvNet(\n",
            "  (conv1): Conv2d(1, 5, kernel_size=(6, 6), stride=(2, 2))\n",
            "  (pool1): MaxPool2d(kernel_size=2, stride=2, padding=0, dilation=1, ceil_mode=False)\n",
            "  (conv2): Conv2d(5, 8, kernel_size=(3, 3), stride=(1, 1))\n",
            "  (drp1): Dropout2d(p=0.25, inplace=False)\n",
            "  (pool2): MaxPool2d(kernel_size=2, stride=2, padding=0, dilation=1, ceil_mode=False)\n",
            "  (lin1): Linear(in_features=288, out_features=10, bias=True)\n",
            ")\n"
          ],
          "name": "stdout"
        }
      ]
    },
    {
      "cell_type": "markdown",
      "metadata": {
        "id": "yvbEZ1K7VEa3"
      },
      "source": [
        "## Autovaliação do código até aqui"
      ]
    },
    {
      "cell_type": "code",
      "metadata": {
        "id": "2n0g3XV5qSEH",
        "colab": {
          "base_uri": "https://localhost:8080/",
          "height": 46
        },
        "outputId": "95336f2e-f826-4ff7-d9a9-5fde7222ea7b"
      },
      "source": [
        "ok.check('avalia02.py')"
      ],
      "execution_count": null,
      "outputs": [
        {
          "output_type": "execute_result",
          "data": {
            "text/html": [
              "\n",
              "    \n",
              "    \n",
              "        <p>All tests passed!</p>\n",
              "    \n",
              "    "
            ],
            "text/plain": [
              "<gofer.ok.OKTestsResult at 0x7f962dc23a90>"
            ]
          },
          "metadata": {
            "tags": []
          },
          "execution_count": 18
        }
      ]
    },
    {
      "cell_type": "markdown",
      "metadata": {
        "id": "KlV5-NW0kzE_"
      },
      "source": [
        "# Parte 4: Treinamento\n",
        "\n",
        "Agora você vai implementar o código para treinamento da rede neural. Para facilitar, já estão implementadas abaixo algumas partes desse código.\n",
        "\n",
        "A função `evaluate(x, y_hat)` vai servir para verificar a acurácia da rede neural para um par de entradas `x` e saídas desejadas correspondentes `y_hat`. Cuide que o nome de sua variável correspondente ao objeto da rede neural deve ser `cnn` para usar essa função."
      ]
    },
    {
      "cell_type": "code",
      "metadata": {
        "id": "5asPUuMPmb5i"
      },
      "source": [
        "def evaluate(x, y_hat):\n",
        "  ''' Calcula a acurácia da ConvNet (variável cnn)\n",
        "      para o par de entradas e saídas desejadas\n",
        "      x, y_hat. Aqui assume-se que y_hat está\n",
        "      originalmente no formato one-hot. Tanto\n",
        "      x quanto y_hat devem ser lotes, não amostras\n",
        "      individuais.\n",
        "  '''\n",
        "  y = cnn(x).argmax(dim=1)\n",
        "  y_hat = y_hat.argmax(dim=1)\n",
        "  return 100*float((y == y_hat).sum()) / len(y)"
      ],
      "execution_count": null,
      "outputs": []
    },
    {
      "cell_type": "markdown",
      "metadata": {
        "id": "ELsgEzWKmF9c"
      },
      "source": [
        "Abaixo criamos os objetos `opt` que será o otimizador Adam, com passo de aprendizagem 0,0001, e função de custo entropia cruzada no objeto `loss`."
      ]
    },
    {
      "cell_type": "code",
      "metadata": {
        "id": "9WajtpB0mXGy"
      },
      "source": [
        "opt = optim.Adam(cnn.parameters(), lr=0.0001)\n",
        "loss = nn.CrossEntropyLoss()"
      ],
      "execution_count": null,
      "outputs": []
    },
    {
      "cell_type": "markdown",
      "metadata": {
        "id": "CpKPmxrmmUTn"
      },
      "source": [
        "Em seguida movemos os dados e a rede neural para a GPU, para que o treinamento seja um pouco mais ágil. Essa parte é opcional, depende de você ter GPU disponível e com memória suficiente para alocar todos os dados. Testando no Google Colab consegui alocar tudo normalmente."
      ]
    },
    {
      "cell_type": "code",
      "metadata": {
        "id": "NmrFTbPl0Wax"
      },
      "source": [
        "# Movemos tudo para a GPU\n",
        "# (essa parte é opcional)\n",
        "\n",
        "gpu = torch.device(\"cuda:0\")\n",
        "cnn = cnn.to(gpu)\n",
        "Xt = Xt.to(gpu, dtype=torch.float)\n",
        "Yt = Yt.to(gpu, dtype=torch.long)\n",
        "Xv = Xv.to(gpu, dtype=torch.float)\n",
        "Yv = Yv.to(gpu, dtype=torch.long)"
      ],
      "execution_count": null,
      "outputs": []
    },
    {
      "cell_type": "markdown",
      "metadata": {
        "id": "gqmAoGFJGz5j"
      },
      "source": [
        "Agora complete você mesmo o código abaixo, colocando os comandos que faltam nos espaços indicados conforme as instruções."
      ]
    },
    {
      "cell_type": "code",
      "metadata": {
        "id": "fbv9kldRmgP5",
        "colab": {
          "base_uri": "https://localhost:8080/"
        },
        "outputId": "0b45907e-efc0-4a49-9af1-c7ab9e72fb00"
      },
      "source": [
        "# Laço de treinamento para 2001\n",
        "# épocas\n",
        "\n",
        "for j in range(2001):\n",
        "\n",
        "  # Faremos o treinamento em lotes de\n",
        "  # tamanho igual a 128 amostras\n",
        "\n",
        "  for i in range(0,len(Yt),128):\n",
        "\n",
        "    # Separa o lote de entradas\n",
        "    x = Xt[i:i+128,:,:,:]\n",
        "\n",
        "    # Separa o lote de saídas desejadas\n",
        "    # já transformando de one-hot para\n",
        "    # índice das colunas.\n",
        "    y_hat = Yt[i:i+128,:].argmax(dim=1)\n",
        "\n",
        "    # Zera o gradiente do otimizador\n",
        "    cnn.zero_grad()\n",
        "\n",
        "    # Calcula a saída da rede neural\n",
        "    y = cnn(x)\n",
        "\n",
        "    # Calcula o erro\n",
        "    e = loss(y, y_hat)\n",
        "\n",
        "    # Calcula o gradiente usando backpropagation\n",
        "    e.backward()\n",
        "\n",
        "    # Realiza um passo de atualização dos parâmetros da rede neural usando o otimizador.\n",
        "    opt.step()\n",
        "\n",
        "  # A cada 200 épocas imprimimos o\n",
        "  # erro do último lote e a acurácia\n",
        "  # nos dados de treinamento\n",
        "  if not (j % 200):\n",
        "    print(float(e), evaluate(Xt, Yt))"
      ],
      "execution_count": null,
      "outputs": [
        {
          "output_type": "stream",
          "text": [
            "2.323652744293213 9.757412398921833\n",
            "0.539328396320343 82.69541778975741\n",
            "0.340692400932312 89.00269541778975\n",
            "0.2506553828716278 91.53638814016172\n",
            "0.1824968457221985 92.93800539083558\n",
            "0.160583958029747 94.39353099730458\n",
            "0.14417558908462524 95.90296495956873\n",
            "0.10522658377885818 96.22641509433963\n",
            "0.06388303637504578 96.81940700808626\n",
            "0.08486971259117126 97.1967654986523\n",
            "0.060186807066202164 97.30458221024259\n"
          ],
          "name": "stdout"
        }
      ]
    },
    {
      "cell_type": "markdown",
      "metadata": {
        "id": "KnDLYGKrHDYS"
      },
      "source": [
        "Depois de treinar a rede neural, podemos desligar a camada de _dropout_ e mostrar o resultado nos dados de validação."
      ]
    },
    {
      "cell_type": "code",
      "metadata": {
        "id": "BHkgnkiv2JGl",
        "colab": {
          "base_uri": "https://localhost:8080/"
        },
        "outputId": "471802c7-623a-4974-9032-ece6d32f337e"
      },
      "source": [
        "cnn.eval() # desliga dropout"
      ],
      "execution_count": null,
      "outputs": [
        {
          "output_type": "execute_result",
          "data": {
            "text/plain": [
              "ConvNet(\n",
              "  (conv1): Conv2d(1, 5, kernel_size=(6, 6), stride=(2, 2))\n",
              "  (pool1): MaxPool2d(kernel_size=2, stride=2, padding=0, dilation=1, ceil_mode=False)\n",
              "  (conv2): Conv2d(5, 8, kernel_size=(3, 3), stride=(1, 1))\n",
              "  (drp1): Dropout2d(p=0.25, inplace=False)\n",
              "  (pool2): MaxPool2d(kernel_size=2, stride=2, padding=0, dilation=1, ceil_mode=False)\n",
              "  (lin1): Linear(in_features=288, out_features=10, bias=True)\n",
              ")"
            ]
          },
          "metadata": {
            "tags": []
          },
          "execution_count": 23
        }
      ]
    },
    {
      "cell_type": "code",
      "metadata": {
        "id": "YvK00f412M16",
        "colab": {
          "base_uri": "https://localhost:8080/"
        },
        "outputId": "4445903b-f72a-457e-fdd9-b253e1e4d7d0"
      },
      "source": [
        "# Não modifique essa célula.\n",
        "\n",
        "ac = evaluate(Xv, Yv)\n",
        "print('Acurácia de', ac, '%')"
      ],
      "execution_count": null,
      "outputs": [
        {
          "output_type": "stream",
          "text": [
            "Acurácia de 87.43961352657004 %\n"
          ],
          "name": "stdout"
        }
      ]
    },
    {
      "cell_type": "markdown",
      "metadata": {
        "id": "yDDivt4-do1b"
      },
      "source": [
        "## Autovaliação do código até aqui"
      ]
    },
    {
      "cell_type": "code",
      "metadata": {
        "id": "88Y7tOtQHUzG",
        "colab": {
          "base_uri": "https://localhost:8080/",
          "height": 46
        },
        "outputId": "ec1a318c-8223-4f52-ee63-7d23b262a181"
      },
      "source": [
        "ok.check('avalia03.py')"
      ],
      "execution_count": null,
      "outputs": [
        {
          "output_type": "execute_result",
          "data": {
            "text/html": [
              "\n",
              "    \n",
              "    \n",
              "        <p>All tests passed!</p>\n",
              "    \n",
              "    "
            ],
            "text/plain": [
              "<gofer.ok.OKTestsResult at 0x7f962dbbeb70>"
            ]
          },
          "metadata": {
            "tags": []
          },
          "execution_count": 25
        }
      ]
    },
    {
      "cell_type": "markdown",
      "metadata": {
        "id": "4C1Z2CI9TV_D"
      },
      "source": [
        "# Parte 5: Examinando os Resultados\n",
        "\n",
        "Por fim, podemos agora avaliar a rede neural em funcionamento, nos dados de validação.\n",
        "\n",
        "A função abaixo escolhe 5 amostras aleatórias dos dados de validação e aplica sua rede neural nelas, mostrando a imagem, a saída calculada e a saída desejada."
      ]
    },
    {
      "cell_type": "code",
      "metadata": {
        "id": "c64bNCtu2oi8"
      },
      "source": [
        "def random_sample_cnn(X, Y):\n",
        "  ''' Essa função testa a rede convolucional\n",
        "      mostrando a imagem de entrada, a saída\n",
        "      calculada, e a saída esperada, para\n",
        "      5 amostras aleatórias.\n",
        "  '''\n",
        "  for _ in range(5):\n",
        "    idx = np.random.randint(0, len(Yv))\n",
        "    x = Xv[idx:idx+1,:,:,:]\n",
        "    y = int(cnn(x).argmax(dim=1))\n",
        "    y_hat = int(Yv[idx:idx+1,:].argmax(dim=1))\n",
        "    print('y =', y, 'y_hat =', y_hat)\n",
        "    x = x.cpu()\n",
        "    plt.imshow(x[0,0,:,:], cmap='gray')\n",
        "    plt.show()"
      ],
      "execution_count": null,
      "outputs": []
    },
    {
      "cell_type": "markdown",
      "metadata": {
        "id": "EyT8_DEzTuEq"
      },
      "source": [
        "Abaixo, finalmente, os resultados"
      ]
    },
    {
      "cell_type": "code",
      "metadata": {
        "id": "h7PxAKuL5nO4",
        "colab": {
          "base_uri": "https://localhost:8080/",
          "height": 1000
        },
        "outputId": "b35f2706-b629-4f98-e652-512882782a6f"
      },
      "source": [
        "# Aqui examinamos alguns exemplos\n",
        "# aleatórios nos dados de validação\n",
        "\n",
        "random_sample_cnn(Xv, Yv)"
      ],
      "execution_count": null,
      "outputs": [
        {
          "output_type": "stream",
          "text": [
            "y = 3 y_hat = 3\n"
          ],
          "name": "stdout"
        },
        {
          "output_type": "display_data",
          "data": {
            "image/png": "[encoded data removed]",
            "text/plain": [
              "<Figure size 432x288 with 1 Axes>"
            ]
          },
          "metadata": {
            "tags": [],
            "needs_background": "light"
          }
        },
        {
          "output_type": "stream",
          "text": [
            "y = 6 y_hat = 7\n"
          ],
          "name": "stdout"
        },
        {
          "output_type": "display_data",
          "data": {
            "image/png": "[encoded data removed]",
            "text/plain": [
              "<Figure size 432x288 with 1 Axes>"
            ]
          },
          "metadata": {
            "tags": [],
            "needs_background": "light"
          }
        },
        {
          "output_type": "stream",
          "text": [
            "y = 0 y_hat = 0\n"
          ],
          "name": "stdout"
        },
        {
          "output_type": "display_data",
          "data": {
            "image/png": "[encoded data removed]",
            "text/plain": [
              "<Figure size 432x288 with 1 Axes>"
            ]
          },
          "metadata": {
            "tags": [],
            "needs_background": "light"
          }
        },
        {
          "output_type": "stream",
          "text": [
            "y = 0 y_hat = 0\n"
          ],
          "name": "stdout"
        },
        {
          "output_type": "display_data",
          "data": {
            "image/png": "[encoded data removed]",
            "text/plain": [
              "<Figure size 432x288 with 1 Axes>"
            ]
          },
          "metadata": {
            "tags": [],
            "needs_background": "light"
          }
        },
        {
          "output_type": "stream",
          "text": [
            "y = 0 y_hat = 0\n"
          ],
          "name": "stdout"
        },
        {
          "output_type": "display_data",
          "data": {
            "image/png": "[encoded data removed]",
            "text/plain": [
              "<Figure size 432x288 with 1 Axes>"
            ]
          },
          "metadata": {
            "tags": [],
            "needs_background": "light"
          }
        }
      ]
    }
  ]
}